{
 "cells": [
  {
   "cell_type": "markdown",
   "metadata": {},
   "source": [
    "# SB_CNN Example"
   ]
  },
  {
   "cell_type": "code",
   "execution_count": 30,
   "metadata": {},
   "outputs": [],
   "source": [
    "import sys\n",
    "import os\n",
    "import glob\n",
    "import numpy as np\n",
    "import argparse\n",
    "\n",
    "sys.path.append('../')\n",
    "from dcase_models.utils.files import load_json, mkdir_if_not_exists\n",
    "from dcase_models.data.datasets import UrbanSound8k\n",
    "from dcase_models.data.features import MelSpectrogram\n",
    "from dcase_models.model.models import SB_CNN\n",
    "from dcase_models.data.scaler import Scaler\n",
    "\n",
    "os.environ[\"CUDA_VISIBLE_DEVICES\"] = \"1\""
   ]
  },
  {
   "cell_type": "markdown",
   "metadata": {},
   "source": [
    "## Define parameters"
   ]
  },
  {
   "cell_type": "code",
   "execution_count": 18,
   "metadata": {},
   "outputs": [],
   "source": [
    "# features parameters\n",
    "sequence_time = 2.0\n",
    "sequence_hop_time = 0.5\n",
    "audio_hop = 670\n",
    "audio_win = 1024\n",
    "n_fft = 1024\n",
    "sr = 22050\n",
    "mel_bands = 128\n",
    "\n",
    "# normalizer\n",
    "normalizer = 'minmax'\n",
    "\n",
    "# train parameters\n",
    "early_stopping = 10\n",
    "epochs = 20\n",
    "considered_improvement = 0\n",
    "learning_rate = 0.001\n",
    "batch_size = 64\n",
    "verbose = 1\n",
    "optimizer = 'Adam'\n",
    "\n",
    "# dataset parameters\n",
    "dataset_path = '../../../../data/pzinemanas/UrbanSound8K'\n",
    "audio_folder = 'audio22050'\n",
    "feature_folder = 'features'"
   ]
  },
  {
   "cell_type": "markdown",
   "metadata": {},
   "source": [
    "## Init Feature Extractor and Data Generator"
   ]
  },
  {
   "cell_type": "code",
   "execution_count": 20,
   "metadata": {},
   "outputs": [],
   "source": [
    "# Init Feature Extractor\n",
    "feature_extractor = MelSpectrogram(sequence_time=sequence_time, \n",
    "                                   sequence_hop_time=sequence_hop_time, \n",
    "                                   audio_win=audio_win, \n",
    "                                   audio_hop=audio_hop, \n",
    "                                   n_fft=n_fft, \n",
    "                                   sr=sr, mel_bands=mel_bands)\n",
    "\n",
    "# Init Data Generator\n",
    "data_generator = UrbanSound8k(dataset_path, feature_folder, 'MelSpectrogram', \n",
    "                              audio_folder=audio_folder)"
   ]
  },
  {
   "cell_type": "markdown",
   "metadata": {},
   "source": [
    "## Extract Features"
   ]
  },
  {
   "cell_type": "code",
   "execution_count": 21,
   "metadata": {},
   "outputs": [
    {
     "name": "stdout",
     "output_type": "stream",
     "text": [
      "Computing: [########################################] 873/873\n",
      "Computing: [########################################] 888/888\n",
      "Computing: [########################################] 925/925\n",
      "Computing: [########################################] 990/990\n",
      "Computing: [########################################] 936/936\n",
      "Computing: [########################################] 823/823\n",
      "Computing: [########################################] 838/838\n",
      "Computing: [########################################] 806/806\n",
      "Computing: [########################################] 816/816\n",
      "Computing: [########################################] 837/837\n"
     ]
    }
   ],
   "source": [
    "folders_list = data_generator.get_folder_lists()\n",
    "for audio_features_paths in folders_list:\n",
    "    response = feature_extractor.extract(audio_features_paths['audio'], audio_features_paths['features'])"
   ]
  },
  {
   "cell_type": "markdown",
   "metadata": {},
   "source": [
    "## Load data"
   ]
  },
  {
   "cell_type": "code",
   "execution_count": 22,
   "metadata": {},
   "outputs": [
    {
     "name": "stdout",
     "output_type": "stream",
     "text": [
      "Loading data... \n",
      "fold: [############################################################] 10/10\n",
      "Done!\n"
     ]
    }
   ],
   "source": [
    "print('Loading data... ')\n",
    "data_generator.load_data()\n",
    "print('Done!')"
   ]
  },
  {
   "cell_type": "markdown",
   "metadata": {},
   "source": [
    "## Fit scaler"
   ]
  },
  {
   "cell_type": "code",
   "execution_count": 28,
   "metadata": {},
   "outputs": [],
   "source": [
    "fold_test = 'fold1'\n",
    "\n",
    "X_train, Y_train, X_val, Y_val = data_generator.get_data_for_training(fold_test)\n",
    "scaler = Scaler(normalizer=normalizer)\n",
    "scaler.fit(X_train)\n",
    "X_train = scaler.transform(X_train)\n",
    "X_val = scaler.transform(X_val)"
   ]
  },
  {
   "cell_type": "markdown",
   "metadata": {},
   "source": [
    "## Init Model"
   ]
  },
  {
   "cell_type": "code",
   "execution_count": 24,
   "metadata": {
    "scrolled": true
   },
   "outputs": [
    {
     "name": "stdout",
     "output_type": "stream",
     "text": [
      "64 128 10\n",
      "WARNING:tensorflow:From /data/pzinemanas/anaconda3/envs/tf_gpu/lib/python3.7/site-packages/keras/backend/tensorflow_backend.py:3445: calling dropout (from tensorflow.python.ops.nn_ops) with keep_prob is deprecated and will be removed in a future version.\n",
      "Instructions for updating:\n",
      "Please use `rate` instead of `keep_prob`. Rate should be set to `rate = 1 - keep_prob`.\n",
      "_________________________________________________________________\n",
      "Layer (type)                 Output Shape              Param #   \n",
      "=================================================================\n",
      "input (InputLayer)           (None, 64, 128)           0         \n",
      "_________________________________________________________________\n",
      "lambda (Lambda)              (None, 64, 128, 1)        0         \n",
      "_________________________________________________________________\n",
      "conv1 (Conv2D)               (None, 60, 124, 24)       624       \n",
      "_________________________________________________________________\n",
      "maxpool1 (MaxPooling2D)      (None, 30, 62, 24)        0         \n",
      "_________________________________________________________________\n",
      "batchnorm1 (BatchNormalizati (None, 30, 62, 24)        96        \n",
      "_________________________________________________________________\n",
      "conv2 (Conv2D)               (None, 26, 58, 48)        28848     \n",
      "_________________________________________________________________\n",
      "maxpool2 (MaxPooling2D)      (None, 6, 29, 48)         0         \n",
      "_________________________________________________________________\n",
      "batchnorm2 (BatchNormalizati (None, 6, 29, 48)         192       \n",
      "_________________________________________________________________\n",
      "conv3 (Conv2D)               (None, 2, 25, 48)         57648     \n",
      "_________________________________________________________________\n",
      "batchnorm3 (BatchNormalizati (None, 2, 25, 48)         192       \n",
      "_________________________________________________________________\n",
      "flatten (Flatten)            (None, 2400)              0         \n",
      "_________________________________________________________________\n",
      "dropout1 (Dropout)           (None, 2400)              0         \n",
      "_________________________________________________________________\n",
      "dense1 (Dense)               (None, 64)                153664    \n",
      "_________________________________________________________________\n",
      "dropout2 (Dropout)           (None, 64)                0         \n",
      "_________________________________________________________________\n",
      "out (Dense)                  (None, 10)                650       \n",
      "=================================================================\n",
      "Total params: 241,914\n",
      "Trainable params: 241,674\n",
      "Non-trainable params: 240\n",
      "_________________________________________________________________\n"
     ]
    }
   ],
   "source": [
    "n_frames_cnn = X_train.shape[1]\n",
    "n_freq_cnn = X_train.shape[2]\n",
    "n_classes = Y_train.shape[1]\n",
    "print(n_frames_cnn, n_freq_cnn, n_classes)\n",
    "\n",
    "model_container = SB_CNN(model=None, model_path=None, n_classes=n_classes, \n",
    "                         n_frames_cnn=n_frames_cnn, n_freq_cnn=n_freq_cnn)\n",
    "\n",
    "model_container.model.summary()"
   ]
  },
  {
   "cell_type": "markdown",
   "metadata": {},
   "source": [
    "## Train model"
   ]
  },
  {
   "cell_type": "code",
   "execution_count": 26,
   "metadata": {
    "scrolled": true
   },
   "outputs": [
    {
     "name": "stdout",
     "output_type": "stream",
     "text": [
      "WARNING:tensorflow:From /data/pzinemanas/anaconda3/envs/tf_gpu/lib/python3.7/site-packages/tensorflow/python/ops/math_ops.py:3066: to_int32 (from tensorflow.python.ops.math_ops) is deprecated and will be removed in a future version.\n",
      "Instructions for updating:\n",
      "Use tf.cast instead.\n",
      "Epoch 1/20\n",
      "56970/56970 [==============================] - 11s 199us/step - loss: 1.3563\n",
      "Acc = 0.5800 - Best val Acc: 0.5800 (IMPROVEMENT, saving)\n",
      "\n",
      "Epoch 2/20\n",
      "56970/56970 [==============================] - 10s 172us/step - loss: 0.6967\n",
      "Acc = 0.6768 - Best val Acc: 0.6768 (IMPROVEMENT, saving)\n",
      "\n",
      "Epoch 3/20\n",
      "56970/56970 [==============================] - 10s 172us/step - loss: 0.5280\n",
      "Acc = 0.6847 - Best val Acc: 0.6847 (IMPROVEMENT, saving)\n",
      "\n",
      "Epoch 4/20\n",
      "56970/56970 [==============================] - 10s 171us/step - loss: 0.4652\n",
      "Acc = 0.7083 - Best val Acc: 0.7083 (IMPROVEMENT, saving)\n",
      "\n",
      "Epoch 5/20\n",
      "56970/56970 [==============================] - 10s 172us/step - loss: 0.4337\n",
      "Acc = 0.6700 - Best val Acc: 0.7083 (3)\n",
      "\n",
      "Epoch 6/20\n",
      "56970/56970 [==============================] - 10s 174us/step - loss: 0.4038\n",
      "Acc = 0.6993 - Best val Acc: 0.7083 (3)\n",
      "\n",
      "Epoch 7/20\n",
      "56970/56970 [==============================] - 10s 175us/step - loss: 0.3870\n",
      "Acc = 0.6554 - Best val Acc: 0.7083 (3)\n",
      "\n",
      "Epoch 8/20\n",
      "56970/56970 [==============================] - 10s 170us/step - loss: 0.3690\n",
      "Acc = 0.6791 - Best val Acc: 0.7083 (3)\n",
      "\n",
      "Epoch 9/20\n",
      "56970/56970 [==============================] - 10s 172us/step - loss: 0.3534\n",
      "Acc = 0.7624 - Best val Acc: 0.7624 (IMPROVEMENT, saving)\n",
      "\n",
      "Epoch 10/20\n",
      "56970/56970 [==============================] - 10s 173us/step - loss: 0.3432\n",
      "Acc = 0.6959 - Best val Acc: 0.7624 (8)\n",
      "\n",
      "Epoch 11/20\n",
      "56970/56970 [==============================] - 10s 172us/step - loss: 0.3387\n",
      "Acc = 0.6993 - Best val Acc: 0.7624 (8)\n",
      "\n",
      "Epoch 12/20\n",
      "56970/56970 [==============================] - 10s 175us/step - loss: 0.3281\n",
      "Acc = 0.7050 - Best val Acc: 0.7624 (8)\n",
      "\n",
      "Epoch 13/20\n",
      "56970/56970 [==============================] - 10s 177us/step - loss: 0.3196\n",
      "Acc = 0.7545 - Best val Acc: 0.7624 (8)\n",
      "\n",
      "Epoch 14/20\n",
      "56970/56970 [==============================] - 10s 172us/step - loss: 0.3095\n",
      "Acc = 0.7106 - Best val Acc: 0.7624 (8)\n",
      "\n",
      "Epoch 15/20\n",
      "56970/56970 [==============================] - 10s 175us/step - loss: 0.3125\n",
      "Acc = 0.7207 - Best val Acc: 0.7624 (8)\n",
      "\n",
      "Epoch 16/20\n",
      "56970/56970 [==============================] - 10s 176us/step - loss: 0.3012\n",
      "Acc = 0.7218 - Best val Acc: 0.7624 (8)\n",
      "\n",
      "Epoch 17/20\n",
      "56970/56970 [==============================] - 10s 177us/step - loss: 0.2927\n",
      "Acc = 0.6700 - Best val Acc: 0.7624 (8)\n",
      "\n",
      "Epoch 18/20\n",
      "56970/56970 [==============================] - 10s 170us/step - loss: 0.2915\n",
      "Acc = 0.7083 - Best val Acc: 0.7624 (8)\n",
      "\n",
      "Not improvement for 10 epochs, stopping the training\n"
     ]
    }
   ],
   "source": [
    "exp_folder = './'\n",
    "\n",
    "train_arguments = {'early_stopping': early_stopping,\n",
    "                  'epochs': epochs,\n",
    "                  'considered_improvement': considered_improvement,\n",
    "                  'learning_rate': learning_rate,\n",
    "                  'batch_size': batch_size,\n",
    "                  'verbose': verbose,\n",
    "                  'optimizer': optimizer}\n",
    "\n",
    "model_container.train(X_train, Y_train, X_val, Y_val, weights_path=exp_folder, **train_arguments)"
   ]
  },
  {
   "cell_type": "markdown",
   "metadata": {},
   "source": [
    "## Evaluate Model"
   ]
  },
  {
   "cell_type": "code",
   "execution_count": 29,
   "metadata": {},
   "outputs": [
    {
     "name": "stdout",
     "output_type": "stream",
     "text": [
      "0.695303550973654\n"
     ]
    }
   ],
   "source": [
    "# Load best_weights\n",
    "model_container.load_model_weights(exp_folder)\n",
    "\n",
    "# Test model\n",
    "X_test, Y_test = data_generator.get_data_for_testing(fold_test)\n",
    "X_test = scaler.transform(X_test)\n",
    "results = model_container.evaluate(X_test, Y_test)\n",
    "\n",
    "print(results['accuracy'])"
   ]
  }
 ],
 "metadata": {
  "kernelspec": {
   "display_name": "Python 3.7.6 64-bit ('tf_gpu': conda)",
   "language": "python",
   "name": "python37664bittfgpuconda4ce1188e0ad54433a74851c49d21ab14"
  },
  "language_info": {
   "codemirror_mode": {
    "name": "ipython",
    "version": 3
   },
   "file_extension": ".py",
   "mimetype": "text/x-python",
   "name": "python",
   "nbconvert_exporter": "python",
   "pygments_lexer": "ipython3",
   "version": "3.7.6"
  }
 },
 "nbformat": 4,
 "nbformat_minor": 4
}
