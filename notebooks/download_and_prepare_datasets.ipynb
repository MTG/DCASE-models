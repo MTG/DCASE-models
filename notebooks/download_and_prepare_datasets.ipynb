{
 "cells": [
  {
   "cell_type": "markdown",
   "metadata": {},
   "source": [
    "# Example on how to use the datasets\n",
    "\n",
    "In this example, we show how to use the datasets defined in DCASE-models. In this notebook we are going to download, prepare and change sampling rate of the UrbanSound8k dataset."
   ]
  },
  {
   "cell_type": "code",
   "execution_count": 2,
   "metadata": {},
   "outputs": [],
   "source": [
    "import sys\n",
    "sys.path.append('../')\n",
    "from dcase_models.data.datasets import UrbanSound8k"
   ]
  },
  {
   "cell_type": "markdown",
   "metadata": {},
   "source": [
    "Let's define the path to the dataset and create an instance of UrbanSound8k"
   ]
  },
  {
   "cell_type": "code",
   "execution_count": 4,
   "metadata": {},
   "outputs": [],
   "source": [
    "dataset_path = \"../data/UrbanSound8K\" \n",
    "data_generator = UrbanSound8k(dataset_path)"
   ]
  },
  {
   "cell_type": "markdown",
   "metadata": {},
   "source": [
    "And then, just download the dataset."
   ]
  },
  {
   "cell_type": "code",
   "execution_count": 6,
   "metadata": {},
   "outputs": [
    {
     "name": "stdout",
     "output_type": "stream",
     "text": [
      "/data/pzinemanas/UrbanSound8K_test/download.txt\n",
      "Audio files download ... \n",
      "Downloading file:  UrbanSound8K.tar.gz\n",
      "\n",
      "Done!\n",
      "Audio files extraction ... \n",
      "Extracting file:  /data/pzinemanas/UrbanSound8K_test/UrbanSound8K.tar.gz\n",
      "Done!\n"
     ]
    }
   ],
   "source": [
    "data_generator.download_dataset()"
   ]
  },
  {
   "cell_type": "markdown",
   "metadata": {},
   "source": [
    "Now, we can resample each file of the dataset with other sampling rate (22050 Hz). This converts all files in the folder dataset_path/audio and save them in dataset_path/audio22050."
   ]
  },
  {
   "cell_type": "code",
   "execution_count": 7,
   "metadata": {},
   "outputs": [],
   "source": [
    "new_sr = 22050\n",
    "data_generator.change_sampling_rate(new_sr)"
   ]
  },
  {
   "cell_type": "markdown",
   "metadata": {},
   "source": [
    "Let's check if the sampling rate change was successful."
   ]
  },
  {
   "cell_type": "code",
   "execution_count": 8,
   "metadata": {},
   "outputs": [
    {
     "data": {
      "text/plain": [
       "True"
      ]
     },
     "execution_count": 8,
     "metadata": {},
     "output_type": "execute_result"
    }
   ],
   "source": [
    "data_generator.check_sampling_rate(new_sr)"
   ]
  }
 ],
 "metadata": {
  "kernelspec": {
   "display_name": "Python 3.7.6 64-bit ('tf_gpu': conda)",
   "language": "python",
   "name": "python37664bittfgpuconda4ce1188e0ad54433a74851c49d21ab14"
  },
  "language_info": {
   "codemirror_mode": {
    "name": "ipython",
    "version": 3
   },
   "file_extension": ".py",
   "mimetype": "text/x-python",
   "name": "python",
   "nbconvert_exporter": "python",
   "pygments_lexer": "ipython3",
   "version": "3.7.6"
  }
 },
 "nbformat": 4,
 "nbformat_minor": 4
}
