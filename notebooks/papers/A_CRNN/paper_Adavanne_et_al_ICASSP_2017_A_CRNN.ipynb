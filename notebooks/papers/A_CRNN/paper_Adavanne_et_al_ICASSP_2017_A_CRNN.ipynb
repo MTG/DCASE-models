{
 "cells": [
  {
   "cell_type": "markdown",
   "metadata": {
    "papermill": {
     "duration": 0.06056,
     "end_time": "2020-07-02T04:22:54.052312",
     "exception": false,
     "start_time": "2020-07-02T04:22:53.991752",
     "status": "completed"
    },
    "tags": []
   },
   "source": [
    "<pre>\n",
    " ____   ____    _    ____  _____                          _      _     \n",
    "|  _ \\ / ___|  / \\  / ___|| ____|     _ __ ___   ___   __| | ___| |___ \n",
    "| | | | |     / _ \\ \\___ \\|  _| _____| '_ ` _ \\ / _ \\ / _` |/ _ \\ / __|\n",
    "| |_| | |___ / ___ \\ ___) | |__|_____| | | | | | (_) | (_| |  __/ \\__ \\\n",
    "|____/ \\____/_/   \\_\\____/|_____|    |_| |_| |_|\\___/ \\__,_|\\___|_|___/\n",
    "                                                                        \n",
    "</pre>\n",
    "\n",
    "# DCASE-models Notebooks\n",
    "Python Notebooks for [DCASE-models](https://github.com/pzinemanas/DCASE-models)\n",
    "\n",
    "---\n",
    "\n",
    "### About \n",
    "This Notebook reproduces the results for **Sound Event Detection (SED)** presented in:\n",
    "<ul>\n",
    "<li><a href=\"https://arxiv.org/pdf/1706.02291.pdf\"><strong>\n",
    "    Sound event detection using spatial features and convolutional recurrent neural network </strong></a>\n",
    "   S. Adavanne, P. Pertilä, T. Virtanen ICASSP 2017.\n",
    "    <br>\n",
    "   <a type=\"button\" class=\"btn btn-default btn-xs\" target=\"_blank\" href=\"https://arxiv.org/pdf/1706.02291.pdf\"> PDF </a>\n",
    "   <a type=\"button\" class=\"btn btn-default btn-xs\" target=\"_blank\" href=\"https://ieeexplore.ieee.org/document/7952260\"> IEEE</a>\n",
    "    </li>   \n",
    "</ul>\n",
    "\n",
    "### Overview\n",
    "\n",
    "This paper extends the Convolutional Recurrent Neural Network (CRNN) proposed by Cakir et al. [[C-CRNN]](https://ieeexplore.ieee.org/document/7933050) for multichannel audio event detection using spatial features (generalized cross-correlation with phase based weighting\n",
    "weighting) and autocorrelation, besides log mel-band energy. The system is evaluated on TUT Sound Events 2009 ([TUT-SED 2009](http://www.cs.tut.fi/sgn/arg/taslp2017-crnn-sed/#tut-sed-2009)- not public)  TUT Sound Events 2016 Development set ([TUT-SED 2016](http://www.cs.tut.fi/sgn/arg/taslp2017-crnn-sed/#tut-sed-2016)).\n",
    "\n",
    "We'll use TUT-SED 2017, and use mel band energies only.\n",
    "\n",
    "### Organization\n",
    "\n",
    "The Notebook is organized into the following sections.\n",
    "* [1. Load parameters](#LoadParameters)\n",
    "* [2. Extract features](#ExtractFeatures)\n",
    "* [3. Load data](#LoadData)\n",
    "* [4. Initialize model](#InitModel)\n",
    "* [5. Train model](#TrainModel)\n",
    "* [6. Evaluate model](#EvaluateModel)"
   ]
  },
  {
   "cell_type": "code",
   "execution_count": 1,
   "metadata": {
    "execution": {
     "iopub.execute_input": "2020-07-02T04:22:54.180062Z",
     "iopub.status.busy": "2020-07-02T04:22:54.178685Z",
     "iopub.status.idle": "2020-07-02T04:23:01.329951Z",
     "shell.execute_reply": "2020-07-02T04:23:01.328725Z"
    },
    "papermill": {
     "duration": 7.218627,
     "end_time": "2020-07-02T04:23:01.330190",
     "exception": false,
     "start_time": "2020-07-02T04:22:54.111563",
     "status": "completed"
    },
    "tags": []
   },
   "outputs": [
    {
     "name": "stderr",
     "output_type": "stream",
     "text": [
      "Using TensorFlow backend.\n"
     ]
    },
    {
     "name": "stderr",
     "output_type": "stream",
     "text": [
      "/clusteruy/home/ihounie/.local/lib/python3.6/site-packages/tensorflow/python/framework/dtypes.py:523: FutureWarning: Passing (type, 1) or '1type' as a synonym of type is deprecated; in a future version of numpy, it will be understood as (type, (1,)) / '(1,)type'.\n",
      "  _np_qint8 = np.dtype([(\"qint8\", np.int8, 1)])\n",
      "/clusteruy/home/ihounie/.local/lib/python3.6/site-packages/tensorflow/python/framework/dtypes.py:524: FutureWarning: Passing (type, 1) or '1type' as a synonym of type is deprecated; in a future version of numpy, it will be understood as (type, (1,)) / '(1,)type'.\n",
      "  _np_quint8 = np.dtype([(\"quint8\", np.uint8, 1)])\n",
      "/clusteruy/home/ihounie/.local/lib/python3.6/site-packages/tensorflow/python/framework/dtypes.py:525: FutureWarning: Passing (type, 1) or '1type' as a synonym of type is deprecated; in a future version of numpy, it will be understood as (type, (1,)) / '(1,)type'.\n",
      "  _np_qint16 = np.dtype([(\"qint16\", np.int16, 1)])\n",
      "/clusteruy/home/ihounie/.local/lib/python3.6/site-packages/tensorflow/python/framework/dtypes.py:526: FutureWarning: Passing (type, 1) or '1type' as a synonym of type is deprecated; in a future version of numpy, it will be understood as (type, (1,)) / '(1,)type'.\n",
      "  _np_quint16 = np.dtype([(\"quint16\", np.uint16, 1)])\n",
      "/clusteruy/home/ihounie/.local/lib/python3.6/site-packages/tensorflow/python/framework/dtypes.py:527: FutureWarning: Passing (type, 1) or '1type' as a synonym of type is deprecated; in a future version of numpy, it will be understood as (type, (1,)) / '(1,)type'.\n",
      "  _np_qint32 = np.dtype([(\"qint32\", np.int32, 1)])\n",
      "/clusteruy/home/ihounie/.local/lib/python3.6/site-packages/tensorflow/python/framework/dtypes.py:532: FutureWarning: Passing (type, 1) or '1type' as a synonym of type is deprecated; in a future version of numpy, it will be understood as (type, (1,)) / '(1,)type'.\n",
      "  np_resource = np.dtype([(\"resource\", np.ubyte, 1)])\n"
     ]
    }
   ],
   "source": [
    "%load_ext autoreload\n",
    "%autoreload 2\n",
    "rootdir_path = '../../../'\n",
    "import sys\n",
    "import os\n",
    "import json\n",
    "import warnings\n",
    "import glob\n",
    "import numpy as np\n",
    "import argparse\n",
    "\n",
    "sys.path.append(rootdir_path)\n",
    "from dcase_models.util.files import load_json, mkdir_if_not_exists\n",
    "from dcase_models.data.data_generator import DataGenerator\n",
    "from dcase_models.data.datasets import TUTSoundEvents2017\n",
    "from dcase_models.model.models import A_CRNN\n",
    "from dcase_models.data.features import MelSpectrogram\n",
    "from dcase_models.data.scaler import Scaler\n",
    "from dcase_models.util.files import load_json\n",
    "from dcase_models.util.data import evaluation_setup\n",
    "\n",
    "os.environ[\"CUDA_VISIBLE_DEVICES\"] = \"1\""
   ]
  },
  {
   "cell_type": "markdown",
   "metadata": {
    "papermill": {
     "duration": 0.040015,
     "end_time": "2020-07-02T04:23:01.424392",
     "exception": false,
     "start_time": "2020-07-02T04:23:01.384377",
     "status": "completed"
    },
    "tags": []
   },
   "source": [
    "<a id=\"LoadeParameters\"></a>\n",
    "## 1. Load parameters"
   ]
  },
  {
   "cell_type": "markdown",
   "metadata": {
    "papermill": {
     "duration": 0.028223,
     "end_time": "2020-07-02T04:23:01.487220",
     "exception": false,
     "start_time": "2020-07-02T04:23:01.458997",
     "status": "completed"
    },
    "tags": []
   },
   "source": [
    "Dataset parameters are stored in a json file on the root directory."
   ]
  },
  {
   "cell_type": "code",
   "execution_count": 2,
   "metadata": {
    "execution": {
     "iopub.execute_input": "2020-07-02T04:23:01.543445Z",
     "iopub.status.busy": "2020-07-02T04:23:01.542746Z",
     "iopub.status.idle": "2020-07-02T04:23:01.584569Z",
     "shell.execute_reply": "2020-07-02T04:23:01.583757Z"
    },
    "papermill": {
     "duration": 0.075411,
     "end_time": "2020-07-02T04:23:01.584733",
     "exception": false,
     "start_time": "2020-07-02T04:23:01.509322",
     "status": "completed"
    },
    "tags": []
   },
   "outputs": [],
   "source": [
    "# load all parameters from json file\n",
    "params = load_json(os.path.join(rootdir_path, 'parameters.json'))\n",
    "# set the dataset we are going to use\n",
    "dataset = 'TUTSoundEvents2017'\n",
    "\n",
    "# get dataset parameters\n",
    "params_dataset = params[\"datasets\"][dataset]\n",
    "\n",
    "# get feature extraction parameters\n",
    "params_features = params[\"features\"]\n",
    "\n",
    "# get training parameters\n",
    "params_train = params[\"train\"]\n",
    "\n",
    "params_model = params[\"models\"][\"A_CRNN\"]\n",
    "\n"
   ]
  },
  {
   "cell_type": "markdown",
   "metadata": {
    "papermill": {
     "duration": 0.020492,
     "end_time": "2020-07-02T04:23:01.642744",
     "exception": false,
     "start_time": "2020-07-02T04:23:01.622252",
     "status": "completed"
    },
    "tags": []
   },
   "source": [
    "Check that the values of the parameters are correct."
   ]
  },
  {
   "cell_type": "code",
   "execution_count": 3,
   "metadata": {
    "execution": {
     "iopub.execute_input": "2020-07-02T04:23:01.691706Z",
     "iopub.status.busy": "2020-07-02T04:23:01.690316Z",
     "iopub.status.idle": "2020-07-02T04:23:01.726766Z",
     "shell.execute_reply": "2020-07-02T04:23:01.727842Z"
    },
    "papermill": {
     "duration": 0.062633,
     "end_time": "2020-07-02T04:23:01.728085",
     "exception": false,
     "start_time": "2020-07-02T04:23:01.665452",
     "status": "completed"
    },
    "tags": []
   },
   "outputs": [
    {
     "name": "stdout",
     "output_type": "stream",
     "text": [
      "Dataset Parameters:\n",
      " {\n",
      "    \"dataset_path\": \"datasets/TUTSoundEvents2017\",\n",
      "    \"evaluation_mode\": \"cross-validation-with-test\"\n",
      "}\n",
      "Features' Parameters:\n",
      " {\n",
      "    \"MelSpectrogram\": {\n",
      "        \"mel_bands\": 64,\n",
      "        \"n_fft\": 1024\n",
      "    },\n",
      "    \"Openl3\": {\n",
      "        \"content_type\": \"env\",\n",
      "        \"embedding_size\": 512,\n",
      "        \"input_repr\": \"mel256\"\n",
      "    },\n",
      "    \"Spectrogram\": {\n",
      "        \"n_fft\": 1024\n",
      "    },\n",
      "    \"audio_hop\": 690,\n",
      "    \"audio_win\": 1024,\n",
      "    \"sequence_hop_time\": 1.0,\n",
      "    \"sequence_time\": 2.0,\n",
      "    \"sr\": 22050\n",
      "}\n",
      "Training Parameters:\n",
      " {\n",
      "    \"batch_size\": 32,\n",
      "    \"considered_improvement\": 0,\n",
      "    \"early_stopping\": 30,\n",
      "    \"epochs\": 50,\n",
      "    \"learning_rate\": 0.001,\n",
      "    \"optimizer\": \"Adam\",\n",
      "    \"verbose\": 1\n",
      "}\n"
     ]
    }
   ],
   "source": [
    "# print the dataset parameters \n",
    "print(\"Dataset Parameters:\\n\", json.dumps(params_dataset, indent=4, sort_keys=True))\n",
    "# print feature extraction parameters \n",
    "print(\"Features' Parameters:\\n\",json.dumps(params_features, indent=4, sort_keys=True))\n",
    "# print training parameters \n",
    "print(\"Training Parameters:\\n\",json.dumps(params_train, indent=4, sort_keys=True))"
   ]
  },
  {
   "cell_type": "markdown",
   "metadata": {
    "papermill": {
     "duration": 0.031429,
     "end_time": "2020-07-02T04:23:01.799088",
     "exception": false,
     "start_time": "2020-07-02T04:23:01.767659",
     "status": "completed"
    },
    "tags": []
   },
   "source": [
    "<a id=\"ExtractFeatures\"></a>\n",
    "## 2. Extract features\n",
    "\n",
    "Initialize Feature Extractor and Data Generator."
   ]
  },
  {
   "cell_type": "code",
   "execution_count": 4,
   "metadata": {
    "execution": {
     "iopub.execute_input": "2020-07-02T04:23:01.886815Z",
     "iopub.status.busy": "2020-07-02T04:23:01.885455Z",
     "iopub.status.idle": "2020-07-02T04:23:02.041278Z",
     "shell.execute_reply": "2020-07-02T04:23:02.040912Z"
    },
    "papermill": {
     "duration": 0.200272,
     "end_time": "2020-07-02T04:23:02.041357",
     "exception": false,
     "start_time": "2020-07-02T04:23:01.841085",
     "status": "completed"
    },
    "tags": []
   },
   "outputs": [
    {
     "name": "stdout",
     "output_type": "stream",
     "text": [
      "(431, 3, 40)\n"
     ]
    }
   ],
   "source": [
    "# Define params\n",
    "\n",
    "params_features = {\n",
    "    \"MelSpectrogram\": {\n",
    "        \"mel_bands\": 40,\n",
    "        \"n_fft\": 1024\n",
    "    },\n",
    "    \"audio_hop\": 512,\n",
    "    \"audio_win\": 1024,\n",
    "    \"sequence_hop_time\": 0.02,\n",
    "    \"sequence_time\": 0.04,\n",
    "    \"sr\": 44100\n",
    "}\n",
    "# Initialize Feature Extractor\n",
    "features = MelSpectrogram(sequence_time=params_features['sequence_time'], \n",
    "                                   sequence_hop_time=params_features['sequence_hop_time'], \n",
    "                                   audio_win=params_features['audio_win'], \n",
    "                                   audio_hop=params_features['audio_hop'], \n",
    "                                   sr=params_features['sr'],\n",
    "                                   **params_features['MelSpectrogram'])\n",
    "\n",
    "\n",
    "print(features.get_shape())"
   ]
  },
  {
   "cell_type": "code",
   "execution_count": 5,
   "metadata": {
    "execution": {
     "iopub.execute_input": "2020-07-02T04:23:02.151111Z",
     "iopub.status.busy": "2020-07-02T04:23:02.149795Z",
     "iopub.status.idle": "2020-07-02T04:23:02.182568Z",
     "shell.execute_reply": "2020-07-02T04:23:02.181487Z"
    },
    "papermill": {
     "duration": 0.094695,
     "end_time": "2020-07-02T04:23:02.182803",
     "exception": false,
     "start_time": "2020-07-02T04:23:02.088108",
     "status": "completed"
    },
    "tags": []
   },
   "outputs": [],
   "source": [
    "# Initialize Data Generator as an instance of URBAN_SED\n",
    "params_data = {'sequence_hop_time': params_features['sequence_hop_time']}\n",
    "dataset = TUTSoundEvents2017(os.path.join(rootdir_path, params_dataset[\"dataset_path\"]), **params_data)"
   ]
  },
  {
   "cell_type": "markdown",
   "metadata": {
    "papermill": {
     "duration": 0.058269,
     "end_time": "2020-07-02T04:23:02.296590",
     "exception": false,
     "start_time": "2020-07-02T04:23:02.238321",
     "status": "completed"
    },
    "tags": []
   },
   "source": [
    "Check if dataset exists, and download it if doesn't exist."
   ]
  },
  {
   "cell_type": "code",
   "execution_count": 6,
   "metadata": {
    "execution": {
     "iopub.execute_input": "2020-07-02T04:23:02.444554Z",
     "iopub.status.busy": "2020-07-02T04:23:02.443246Z",
     "iopub.status.idle": "2020-07-02T04:23:02.483141Z",
     "shell.execute_reply": "2020-07-02T04:23:02.484179Z"
    },
    "papermill": {
     "duration": 0.129368,
     "end_time": "2020-07-02T04:23:02.484432",
     "exception": false,
     "start_time": "2020-07-02T04:23:02.355064",
     "status": "completed"
    },
    "tags": []
   },
   "outputs": [],
   "source": [
    "dataset.download()"
   ]
  },
  {
   "cell_type": "markdown",
   "metadata": {
    "papermill": {
     "duration": 0.066437,
     "end_time": "2020-07-02T04:23:02.613537",
     "exception": false,
     "start_time": "2020-07-02T04:23:02.547100",
     "status": "completed"
    },
    "tags": []
   },
   "source": [
    "Extract the features (if they were not extracted before)."
   ]
  },
  {
   "cell_type": "code",
   "execution_count": 7,
   "metadata": {
    "execution": {
     "iopub.execute_input": "2020-07-02T04:23:02.756761Z",
     "iopub.status.busy": "2020-07-02T04:23:02.755345Z",
     "iopub.status.idle": "2020-07-02T04:23:02.795734Z",
     "shell.execute_reply": "2020-07-02T04:23:02.796880Z"
    },
    "papermill": {
     "duration": 0.116224,
     "end_time": "2020-07-02T04:23:02.797219",
     "exception": false,
     "start_time": "2020-07-02T04:23:02.680995",
     "status": "completed"
    },
    "tags": []
   },
   "outputs": [
    {
     "name": "stdout",
     "output_type": "stream",
     "text": [
      "Done!\n"
     ]
    }
   ],
   "source": [
    "if not features.check_if_extracted(dataset):\n",
    "    features.extract(dataset)\n",
    "print('Done!')"
   ]
  },
  {
   "cell_type": "markdown",
   "metadata": {
    "papermill": {
     "duration": 0.058323,
     "end_time": "2020-07-02T04:23:02.913753",
     "exception": false,
     "start_time": "2020-07-02T04:23:02.855430",
     "status": "completed"
    },
    "tags": []
   },
   "source": [
    "<a id=\"LoadData\"></a>\n",
    "## 3. Load data"
   ]
  },
  {
   "cell_type": "code",
   "execution_count": 8,
   "metadata": {
    "execution": {
     "iopub.execute_input": "2020-07-02T04:23:03.055133Z",
     "iopub.status.busy": "2020-07-02T04:23:03.053766Z",
     "iopub.status.idle": "2020-07-02T04:23:03.097467Z",
     "shell.execute_reply": "2020-07-02T04:23:03.096215Z"
    },
    "papermill": {
     "duration": 0.116914,
     "end_time": "2020-07-02T04:23:03.097708",
     "exception": false,
     "start_time": "2020-07-02T04:23:02.980794",
     "status": "completed"
    },
    "tags": []
   },
   "outputs": [],
   "source": [
    "# Get train/test folds\n",
    "folds_train, folds_val, folds_test = evaluation_setup('fold1', dataset.fold_list,\n",
    "                                             params_dataset['evaluation_mode'],\n",
    "                                             use_validate_set=True)\n",
    "#initialise Data Generator\n",
    "data_gen_train = DataGenerator(dataset, features, folds=folds_train,\n",
    "                               batch_size=params_train['batch_size'],\n",
    "                               shuffle=True, train=True, scaler=None)"
   ]
  },
  {
   "cell_type": "markdown",
   "metadata": {
    "papermill": {
     "duration": 0.063918,
     "end_time": "2020-07-02T04:23:03.227896",
     "exception": false,
     "start_time": "2020-07-02T04:23:03.163978",
     "status": "completed"
    },
    "tags": []
   },
   "source": [
    "And also fit a scaler and transform the training data."
   ]
  },
  {
   "cell_type": "code",
   "execution_count": 9,
   "metadata": {
    "execution": {
     "iopub.execute_input": "2020-07-02T04:23:03.322478Z",
     "iopub.status.busy": "2020-07-02T04:23:03.321144Z",
     "iopub.status.idle": "2020-07-02T04:23:03.573763Z",
     "shell.execute_reply": "2020-07-02T04:23:03.574857Z"
    },
    "papermill": {
     "duration": 0.305535,
     "end_time": "2020-07-02T04:23:03.575117",
     "exception": false,
     "start_time": "2020-07-02T04:23:03.269582",
     "status": "completed"
    },
    "tags": []
   },
   "outputs": [
    {
     "name": "stdout",
     "output_type": "stream",
     "text": [
      "Fitting features ...\n"
     ]
    },
    {
     "name": "stdout",
     "output_type": "stream",
     "text": [
      "Done!\n"
     ]
    }
   ],
   "source": [
    "scaler = Scaler(normalizer=params_model['normalizer'])\n",
    "print('Fitting features ...')\n",
    "scaler.fit(data_gen_train)\n",
    "print('Done!')\n",
    "\n",
    "data_gen_train.set_scaler(scaler)\n",
    "\n"
   ]
  },
  {
   "cell_type": "markdown",
   "metadata": {
    "papermill": {
     "duration": 0.044803,
     "end_time": "2020-07-02T04:23:03.672870",
     "exception": false,
     "start_time": "2020-07-02T04:23:03.628067",
     "status": "completed"
    },
    "tags": []
   },
   "source": [
    "Initialise data generator"
   ]
  },
  {
   "cell_type": "code",
   "execution_count": 10,
   "metadata": {
    "execution": {
     "iopub.execute_input": "2020-07-02T04:23:03.781496Z",
     "iopub.status.busy": "2020-07-02T04:23:03.780177Z",
     "iopub.status.idle": "2020-07-02T04:23:03.825381Z",
     "shell.execute_reply": "2020-07-02T04:23:03.826470Z"
    },
    "papermill": {
     "duration": 0.103748,
     "end_time": "2020-07-02T04:23:03.826729",
     "exception": false,
     "start_time": "2020-07-02T04:23:03.722981",
     "status": "completed"
    },
    "tags": []
   },
   "outputs": [],
   "source": [
    "data_gen_val = DataGenerator(dataset, features, folds=folds_val,\n",
    "                             batch_size=params_train['batch_size'],\n",
    "                             shuffle=False, train=False, scaler=scaler)"
   ]
  },
  {
   "cell_type": "markdown",
   "metadata": {
    "papermill": {
     "duration": 0.037958,
     "end_time": "2020-07-02T04:23:03.907628",
     "exception": false,
     "start_time": "2020-07-02T04:23:03.869670",
     "status": "completed"
    },
    "tags": []
   },
   "source": [
    "<a id=\"InitModel\"></a>\n",
    "## 4. Initialize model"
   ]
  },
  {
   "cell_type": "code",
   "execution_count": 11,
   "metadata": {
    "execution": {
     "iopub.execute_input": "2020-07-02T04:23:03.976984Z",
     "iopub.status.busy": "2020-07-02T04:23:03.976317Z",
     "iopub.status.idle": "2020-07-02T04:23:04.894200Z",
     "shell.execute_reply": "2020-07-02T04:23:04.895290Z"
    },
    "papermill": {
     "duration": 0.959315,
     "end_time": "2020-07-02T04:23:04.895552",
     "exception": false,
     "start_time": "2020-07-02T04:23:03.936237",
     "status": "completed"
    },
    "scrolled": true,
    "tags": []
   },
   "outputs": [
    {
     "name": "stdout",
     "output_type": "stream",
     "text": [
      "0 (?, 3, 40, 128)\n",
      "1 (?, 3, 8, 128)\n",
      "2 (?, 3, 4, 128)\n"
     ]
    },
    {
     "name": "stdout",
     "output_type": "stream",
     "text": [
      "_________________________________________________________________\n",
      "Layer (type)                 Output Shape              Param #   \n",
      "=================================================================\n",
      "input (InputLayer)           (None, 3, 40)             0         \n",
      "_________________________________________________________________\n",
      "lambda (Lambda)              (None, 3, 40, 1)          0         \n",
      "_________________________________________________________________\n",
      "conv2d_1 (Conv2D)            (None, 3, 40, 128)        1280      \n",
      "_________________________________________________________________\n",
      "batch_normalization_1 (Batch (None, 3, 40, 128)        160       \n",
      "_________________________________________________________________\n",
      "activation_1 (Activation)    (None, 3, 40, 128)        0         \n",
      "_________________________________________________________________\n",
      "max_pooling2d_1 (MaxPooling2 (None, 3, 8, 128)         0         \n",
      "_________________________________________________________________\n",
      "dropout_1 (Dropout)          (None, 3, 8, 128)         0         \n",
      "_________________________________________________________________\n",
      "conv2d_2 (Conv2D)            (None, 3, 8, 128)         147584    \n",
      "_________________________________________________________________\n",
      "batch_normalization_2 (Batch (None, 3, 8, 128)         32        \n",
      "_________________________________________________________________\n",
      "activation_2 (Activation)    (None, 3, 8, 128)         0         \n",
      "_________________________________________________________________\n",
      "max_pooling2d_2 (MaxPooling2 (None, 3, 4, 128)         0         \n",
      "_________________________________________________________________\n",
      "dropout_2 (Dropout)          (None, 3, 4, 128)         0         \n",
      "_________________________________________________________________\n",
      "conv2d_3 (Conv2D)            (None, 3, 4, 128)         147584    \n",
      "_________________________________________________________________\n",
      "batch_normalization_3 (Batch (None, 3, 4, 128)         16        \n",
      "_________________________________________________________________\n",
      "activation_3 (Activation)    (None, 3, 4, 128)         0         \n",
      "_________________________________________________________________\n",
      "max_pooling2d_3 (MaxPooling2 (None, 3, 2, 128)         0         \n",
      "_________________________________________________________________\n",
      "dropout_3 (Dropout)          (None, 3, 2, 128)         0         \n",
      "_________________________________________________________________\n",
      "reshape_1 (Reshape)          (None, 3, 256)            0         \n",
      "_________________________________________________________________\n",
      "gru_1 (GRU)                  (None, 3, 32)             27744     \n",
      "_________________________________________________________________\n",
      "gru_2 (GRU)                  (None, 3, 32)             6240      \n",
      "_________________________________________________________________\n",
      "time_distributed_1 (TimeDist (None, 3, 32)             1056      \n",
      "_________________________________________________________________\n",
      "dropout_4 (Dropout)          (None, 3, 32)             0         \n",
      "_________________________________________________________________\n",
      "time_distributed_2 (TimeDist (None, 3, 6)              198       \n",
      "_________________________________________________________________\n",
      "mean (Lambda)                (None, 6)                 0         \n",
      "_________________________________________________________________\n",
      "strong_out (Activation)      (None, 6)                 0         \n",
      "=================================================================\n",
      "Total params: 331,894\n",
      "Trainable params: 331,790\n",
      "Non-trainable params: 104\n",
      "_________________________________________________________________\n"
     ]
    }
   ],
   "source": [
    "features_shape = features.get_shape()\n",
    "n_frames_cnn = features_shape[1]\n",
    "n_freq_cnn = features_shape[2]\n",
    "n_classes = len(dataset.label_list)\n",
    "\n",
    "\n",
    "metrics = ['sed']\n",
    "\n",
    "model_container = A_CRNN(model=None, model_path=None, n_classes=n_classes, \n",
    "                             n_frames_cnn=n_frames_cnn, n_freq_cnn=n_freq_cnn,\n",
    "                             metrics=metrics)\n",
    "\n",
    "model_container.model.summary()"
   ]
  },
  {
   "cell_type": "markdown",
   "metadata": {
    "papermill": {
     "duration": 0.041556,
     "end_time": "2020-07-02T04:23:04.994760",
     "exception": false,
     "start_time": "2020-07-02T04:23:04.953204",
     "status": "completed"
    },
    "tags": []
   },
   "source": [
    "<a id=\"TrainModel\"></a>\n",
    "## 5. Train model"
   ]
  },
  {
   "cell_type": "code",
   "execution_count": 12,
   "metadata": {
    "execution": {
     "iopub.execute_input": "2020-07-02T04:23:05.090667Z",
     "iopub.status.busy": "2020-07-02T04:23:05.089320Z"
    },
    "papermill": {
     "duration": 32840.182271,
     "end_time": "2020-07-02T13:30:25.218720",
     "exception": false,
     "start_time": "2020-07-02T04:23:05.036449",
     "status": "completed"
    },
    "scrolled": true,
    "tags": []
   },
   "outputs": [
    {
     "name": "stdout",
     "output_type": "stream",
     "text": [
      "Epoch 1/300\n"
     ]
    }
   ],
   "source": [
    "#define path to save weights and training log\n",
    "exp_folder = './'\n",
    "# Replacing default training parameters by paper parameters\n",
    "params_train[\"epochs\"]=300\n",
    "params_train[\"early_stopping\"]=50\n",
    "params_train[\"batch_size\"] = 32\n",
    "\n",
    "kwargs = {'label_list': dataset.label_list}\n",
    "model_container.train(data_gen_train, data_gen_val, weights_path=exp_folder, **params_train, **kwargs)"
   ]
  },
  {
   "cell_type": "markdown",
   "metadata": {
    "papermill": {
     "duration": null,
     "end_time": null,
     "exception": null,
     "start_time": null,
     "status": "completed"
    },
    "tags": []
   },
   "source": [
    "<a id=\"EvaluateModel\"></a>\n",
    "## 6. Evaluate Model"
   ]
  },
  {
   "cell_type": "code",
   "execution_count": null,
   "metadata": {
    "papermill": {
     "duration": null,
     "end_time": null,
     "exception": null,
     "start_time": null,
     "status": "completed"
    },
    "tags": []
   },
   "outputs": [],
   "source": [
    "# Load best_weights\n",
    "model_container.load_model_weights(exp_folder)\n",
    "\n",
    "data_gen_test = DataGenerator(dataset, features, folds=folds_test,\\\n",
    "                              batch_size=params_train['batch_size'],\\\n",
    "                              shuffle=False, train=False, scaler=scaler)\n",
    "\n",
    "kwargs = {'sequence_time_sec': params_features['sequence_hop_time'],\n",
    "          'metric_resolution_sec': 0.2}\n",
    "results = model_container.evaluate(data_gen_test, label_list=dataset.label_list, **kwargs)\n",
    "\n",
    "print(results[metrics[0]])"
   ]
  }
 ],
 "metadata": {
  "kernelspec": {
   "display_name": "Python 3",
   "language": "python",
   "name": "python3"
  },
  "language_info": {
   "codemirror_mode": {
    "name": "ipython",
    "version": 3
   },
   "file_extension": ".py",
   "mimetype": "text/x-python",
   "name": "python",
   "nbconvert_exporter": "python",
   "pygments_lexer": "ipython3",
   "version": "3.6.5"
  },
  "papermill": {
   "duration": 32854.129223,
   "end_time": "2020-07-02T13:30:26.167424",
   "environment_variables": {},
   "exception": null,
   "input_path": "paper_Adavanne_et_al_ICASSP_2017_A_CRNN.ipynb",
   "output_path": "paper_Adavanne_et_al_ICASSP_2017_A_CRNN_output.ipynb",
   "parameters": {},
   "start_time": "2020-07-02T04:22:52.038201",
   "version": "2.1.1"
  }
 },
 "nbformat": 4,
 "nbformat_minor": 4
}