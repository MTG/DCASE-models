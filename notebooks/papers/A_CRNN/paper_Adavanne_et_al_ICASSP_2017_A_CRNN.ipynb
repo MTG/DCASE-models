{
 "cells": [
  {
   "cell_type": "markdown",
   "metadata": {
    "papermill": {
     "duration": 0.06056,
     "end_time": "2020-07-02T04:22:54.052312",
     "exception": false,
     "start_time": "2020-07-02T04:22:53.991752",
     "status": "completed"
    },
    "tags": []
   },
   "source": [
    "<pre>\n",
    " ____   ____    _    ____  _____                          _      _     \n",
    "|  _ \\ / ___|  / \\  / ___|| ____|     _ __ ___   ___   __| | ___| |___ \n",
    "| | | | |     / _ \\ \\___ \\|  _| _____| '_ ` _ \\ / _ \\ / _` |/ _ \\ / __|\n",
    "| |_| | |___ / ___ \\ ___) | |__|_____| | | | | | (_) | (_| |  __/ \\__ \\\n",
    "|____/ \\____/_/   \\_\\____/|_____|    |_| |_| |_|\\___/ \\__,_|\\___|_|___/\n",
    "                                                                        \n",
    "</pre>\n",
    "\n",
    "# DCASE-models Notebooks\n",
    "Python Notebooks for [DCASE-models](https://github.com/pzinemanas/DCASE-models)\n",
    "\n",
    "---\n",
    "\n",
    "### About \n",
    "This Notebook reproduces the results for **Sound Event Detection (SED)** presented in:\n",
    "<ul>\n",
    "<li><a href=\"https://arxiv.org/pdf/1706.02291.pdf\"><strong>\n",
    "    Sound event detection using spatial features and convolutional recurrent neural network </strong></a>\n",
    "   S. Adavanne, P. Pertilä, T. Virtanen ICASSP 2017.\n",
    "    <br>\n",
    "   <a type=\"button\" class=\"btn btn-default btn-xs\" target=\"_blank\" href=\"https://arxiv.org/pdf/1706.02291.pdf\"> PDF </a>\n",
    "   <a type=\"button\" class=\"btn btn-default btn-xs\" target=\"_blank\" href=\"https://ieeexplore.ieee.org/document/7952260\"> IEEE</a>\n",
    "    </li>   \n",
    "</ul>\n",
    "\n",
    "### Overview\n",
    "\n",
    "This paper extends the Convolutional Recurrent Neural Network (CRNN) proposed by Cakir et al. [[C-CRNN]](https://ieeexplore.ieee.org/document/7933050) for multichannel audio event detection using spatial features (generalized cross-correlation with phase based weighting\n",
    "weighting) and autocorrelation, besides log mel-band energy. The system is evaluated on TUT Sound Events 2009 ([TUT-SED 2009](http://www.cs.tut.fi/sgn/arg/taslp2017-crnn-sed/#tut-sed-2009)- not public)  TUT Sound Events 2016 Development set ([TUT-SED 2016](http://www.cs.tut.fi/sgn/arg/taslp2017-crnn-sed/#tut-sed-2016)).\n",
    "\n",
    "We'll use TUT-SED 2017, and use mel band energies only.\n",
    "\n",
    "### Organization\n",
    "\n",
    "The Notebook is organized into the following sections.\n",
    "* [1. Load parameters](#LoadParameters)\n",
    "* [2. Extract features](#ExtractFeatures)\n",
    "* [3. Load data](#LoadData)\n",
    "* [4. Initialize model](#InitModel)\n",
    "* [5. Train model](#TrainModel)\n",
    "* [6. Evaluate model](#EvaluateModel)"
   ]
  },
  {
   "cell_type": "code",
   "execution_count": 2,
   "metadata": {
    "execution": {
     "iopub.execute_input": "2020-07-02T04:22:54.180062Z",
     "iopub.status.busy": "2020-07-02T04:22:54.178685Z",
     "iopub.status.idle": "2020-07-02T04:23:01.329951Z",
     "shell.execute_reply": "2020-07-02T04:23:01.328725Z"
    },
    "papermill": {
     "duration": 7.218627,
     "end_time": "2020-07-02T04:23:01.330190",
     "exception": false,
     "start_time": "2020-07-02T04:22:54.111563",
     "status": "completed"
    },
    "tags": []
   },
   "outputs": [
    {
     "name": "stdout",
     "output_type": "stream",
     "text": [
      "The autoreload extension is already loaded. To reload it, use:\n",
      "  %reload_ext autoreload\n"
     ]
    }
   ],
   "source": [
    "%load_ext autoreload\n",
    "%autoreload 2\n",
    "rootdir_path = '../../../'\n",
    "import sys\n",
    "import os\n",
    "import json\n",
    "import warnings\n",
    "import glob\n",
    "import numpy as np\n",
    "import argparse\n",
    "\n",
    "sys.path.append(rootdir_path)\n",
    "from dcase_models.util.files import load_json, mkdir_if_not_exists\n",
    "from dcase_models.data.data_generator import DataGenerator\n",
    "from dcase_models.data.datasets import TUTSoundEvents2017\n",
    "from dcase_models.model.models import A_CRNN\n",
    "from dcase_models.data.features import MelSpectrogram\n",
    "from dcase_models.data.scaler import Scaler\n",
    "from dcase_models.util.files import load_json\n",
    "from dcase_models.util.data import evaluation_setup\n",
    "\n",
    "os.environ[\"CUDA_VISIBLE_DEVICES\"] = \"1\""
   ]
  },
  {
   "cell_type": "markdown",
   "metadata": {
    "papermill": {
     "duration": 0.040015,
     "end_time": "2020-07-02T04:23:01.424392",
     "exception": false,
     "start_time": "2020-07-02T04:23:01.384377",
     "status": "completed"
    },
    "tags": []
   },
   "source": [
    "<a id=\"LoadeParameters\"></a>\n",
    "## 1. Load parameters"
   ]
  },
  {
   "cell_type": "markdown",
   "metadata": {
    "papermill": {
     "duration": 0.028223,
     "end_time": "2020-07-02T04:23:01.487220",
     "exception": false,
     "start_time": "2020-07-02T04:23:01.458997",
     "status": "completed"
    },
    "tags": []
   },
   "source": [
    "Dataset parameters are stored in a json file on the root directory."
   ]
  },
  {
   "cell_type": "code",
   "execution_count": 3,
   "metadata": {
    "execution": {
     "iopub.execute_input": "2020-07-02T04:23:01.543445Z",
     "iopub.status.busy": "2020-07-02T04:23:01.542746Z",
     "iopub.status.idle": "2020-07-02T04:23:01.584569Z",
     "shell.execute_reply": "2020-07-02T04:23:01.583757Z"
    },
    "papermill": {
     "duration": 0.075411,
     "end_time": "2020-07-02T04:23:01.584733",
     "exception": false,
     "start_time": "2020-07-02T04:23:01.509322",
     "status": "completed"
    },
    "tags": []
   },
   "outputs": [],
   "source": [
    "# load all parameters from json file\n",
    "params = load_json(os.path.join(rootdir_path, 'parameters.json'))\n",
    "# set the dataset we are going to use\n",
    "dataset = 'TUTSoundEvents2017'\n",
    "\n",
    "# get dataset parameters\n",
    "params_dataset = params[\"datasets\"][dataset]\n",
    "\n",
    "# get feature extraction parameters\n",
    "params_features = params[\"features\"]\n",
    "\n",
    "# get training parameters\n",
    "params_train = params[\"train\"]\n",
    "\n",
    "params_model = params[\"models\"][\"A_CRNN\"]\n",
    "\n"
   ]
  },
  {
   "cell_type": "markdown",
   "metadata": {
    "papermill": {
     "duration": 0.020492,
     "end_time": "2020-07-02T04:23:01.642744",
     "exception": false,
     "start_time": "2020-07-02T04:23:01.622252",
     "status": "completed"
    },
    "tags": []
   },
   "source": [
    "Check that the values of the parameters are correct."
   ]
  },
  {
   "cell_type": "code",
   "execution_count": 4,
   "metadata": {
    "execution": {
     "iopub.execute_input": "2020-07-02T04:23:01.691706Z",
     "iopub.status.busy": "2020-07-02T04:23:01.690316Z",
     "iopub.status.idle": "2020-07-02T04:23:01.726766Z",
     "shell.execute_reply": "2020-07-02T04:23:01.727842Z"
    },
    "papermill": {
     "duration": 0.062633,
     "end_time": "2020-07-02T04:23:01.728085",
     "exception": false,
     "start_time": "2020-07-02T04:23:01.665452",
     "status": "completed"
    },
    "tags": []
   },
   "outputs": [
    {
     "name": "stdout",
     "output_type": "stream",
     "text": [
      "Dataset Parameters:\n",
      " {\n",
      "    \"dataset_path\": \"datasets/TUTSoundEvents2017\",\n",
      "    \"evaluation_mode\": \"cross-validation-with-test\"\n",
      "}\n",
      "Features' Parameters:\n",
      " {\n",
      "    \"MelSpectrogram\": {\n",
      "        \"mel_bands\": 64,\n",
      "        \"n_fft\": 1024\n",
      "    },\n",
      "    \"Openl3\": {\n",
      "        \"content_type\": \"env\",\n",
      "        \"embedding_size\": 512,\n",
      "        \"input_repr\": \"mel256\"\n",
      "    },\n",
      "    \"Spectrogram\": {\n",
      "        \"n_fft\": 1024\n",
      "    },\n",
      "    \"audio_hop\": 680,\n",
      "    \"audio_win\": 1024,\n",
      "    \"sequence_hop_time\": 0.5,\n",
      "    \"sequence_time\": 1.0,\n",
      "    \"sr\": 22050\n",
      "}\n",
      "Training Parameters:\n",
      " {\n",
      "    \"batch_size\": 1,\n",
      "    \"considered_improvement\": 0,\n",
      "    \"early_stopping\": 30,\n",
      "    \"epochs\": 50,\n",
      "    \"learning_rate\": 0.001,\n",
      "    \"optimizer\": \"Adam\",\n",
      "    \"verbose\": 1\n",
      "}\n"
     ]
    }
   ],
   "source": [
    "# print the dataset parameters \n",
    "print(\"Dataset Parameters:\\n\", json.dumps(params_dataset, indent=4, sort_keys=True))\n",
    "# print feature extraction parameters \n",
    "print(\"Features' Parameters:\\n\",json.dumps(params_features, indent=4, sort_keys=True))\n",
    "# print training parameters \n",
    "print(\"Training Parameters:\\n\",json.dumps(params_train, indent=4, sort_keys=True))"
   ]
  },
  {
   "cell_type": "markdown",
   "metadata": {
    "papermill": {
     "duration": 0.031429,
     "end_time": "2020-07-02T04:23:01.799088",
     "exception": false,
     "start_time": "2020-07-02T04:23:01.767659",
     "status": "completed"
    },
    "tags": []
   },
   "source": [
    "<a id=\"ExtractFeatures\"></a>\n",
    "## 2. Extract features\n",
    "\n",
    "Initialize Feature Extractor and Data Generator."
   ]
  },
  {
   "cell_type": "code",
   "execution_count": 30,
   "metadata": {
    "execution": {
     "iopub.execute_input": "2020-07-02T04:23:01.886815Z",
     "iopub.status.busy": "2020-07-02T04:23:01.885455Z",
     "iopub.status.idle": "2020-07-02T04:23:02.041278Z",
     "shell.execute_reply": "2020-07-02T04:23:02.040912Z"
    },
    "papermill": {
     "duration": 0.200272,
     "end_time": "2020-07-02T04:23:02.041357",
     "exception": false,
     "start_time": "2020-07-02T04:23:01.841085",
     "status": "completed"
    },
    "tags": []
   },
   "outputs": [
    {
     "name": "stdout",
     "output_type": "stream",
     "text": [
      "(10, 50, 40)\n"
     ]
    }
   ],
   "source": [
    "# Define params\n",
    "\n",
    "params_features = {\n",
    "    \"MelSpectrogram\": {\n",
    "        \"mel_bands\": 40,\n",
    "        \"n_fft\": 2048\n",
    "    },\n",
    "    \"audio_hop\": 882, # 20 ms\n",
    "    \"audio_win\": 1764, # 40 ms\n",
    "    \"sequence_hop_time\": 1.0,\n",
    "    \"sequence_time\": 1.0,\n",
    "    \"sr\": 44100\n",
    "}\n",
    "# Initialize Feature Extractor\n",
    "features = MelSpectrogram(sequence_time=params_features['sequence_time'], \n",
    "                                   sequence_hop_time=params_features['sequence_hop_time'], \n",
    "                                   audio_win=params_features['audio_win'], \n",
    "                                   audio_hop=params_features['audio_hop'], \n",
    "                                   sr=params_features['sr'],\n",
    "                                   **params_features['MelSpectrogram'])\n",
    "\n",
    "\n",
    "print(features.get_shape())"
   ]
  },
  {
   "cell_type": "code",
   "execution_count": 31,
   "metadata": {
    "execution": {
     "iopub.execute_input": "2020-07-02T04:23:02.151111Z",
     "iopub.status.busy": "2020-07-02T04:23:02.149795Z",
     "iopub.status.idle": "2020-07-02T04:23:02.182568Z",
     "shell.execute_reply": "2020-07-02T04:23:02.181487Z"
    },
    "papermill": {
     "duration": 0.094695,
     "end_time": "2020-07-02T04:23:02.182803",
     "exception": false,
     "start_time": "2020-07-02T04:23:02.088108",
     "status": "completed"
    },
    "tags": []
   },
   "outputs": [],
   "source": [
    "# Initialize Data Generator as an instance of URBAN_SED\n",
    "dataset = TUTSoundEvents2017(os.path.join(rootdir_path, params_dataset[\"dataset_path\"]))"
   ]
  },
  {
   "cell_type": "markdown",
   "metadata": {
    "papermill": {
     "duration": 0.058269,
     "end_time": "2020-07-02T04:23:02.296590",
     "exception": false,
     "start_time": "2020-07-02T04:23:02.238321",
     "status": "completed"
    },
    "tags": []
   },
   "source": [
    "Check if dataset exists, and download it if doesn't exist."
   ]
  },
  {
   "cell_type": "code",
   "execution_count": 32,
   "metadata": {
    "execution": {
     "iopub.execute_input": "2020-07-02T04:23:02.444554Z",
     "iopub.status.busy": "2020-07-02T04:23:02.443246Z",
     "iopub.status.idle": "2020-07-02T04:23:02.483141Z",
     "shell.execute_reply": "2020-07-02T04:23:02.484179Z"
    },
    "papermill": {
     "duration": 0.129368,
     "end_time": "2020-07-02T04:23:02.484432",
     "exception": false,
     "start_time": "2020-07-02T04:23:02.355064",
     "status": "completed"
    },
    "tags": []
   },
   "outputs": [],
   "source": [
    "dataset.download()"
   ]
  },
  {
   "cell_type": "markdown",
   "metadata": {
    "papermill": {
     "duration": 0.066437,
     "end_time": "2020-07-02T04:23:02.613537",
     "exception": false,
     "start_time": "2020-07-02T04:23:02.547100",
     "status": "completed"
    },
    "tags": []
   },
   "source": [
    "Extract the features (if they were not extracted before)."
   ]
  },
  {
   "cell_type": "code",
   "execution_count": 33,
   "metadata": {
    "execution": {
     "iopub.execute_input": "2020-07-02T04:23:02.756761Z",
     "iopub.status.busy": "2020-07-02T04:23:02.755345Z",
     "iopub.status.idle": "2020-07-02T04:23:02.795734Z",
     "shell.execute_reply": "2020-07-02T04:23:02.796880Z"
    },
    "papermill": {
     "duration": 0.116224,
     "end_time": "2020-07-02T04:23:02.797219",
     "exception": false,
     "start_time": "2020-07-02T04:23:02.680995",
     "status": "completed"
    },
    "tags": []
   },
   "outputs": [
    {
     "name": "stdout",
     "output_type": "stream",
     "text": [
      "[############################################################] 32/32\n",
      "Done!\n"
     ]
    }
   ],
   "source": [
    "if not features.check_if_extracted(dataset):\n",
    "    features.extract(dataset)\n",
    "print('Done!')"
   ]
  },
  {
   "cell_type": "markdown",
   "metadata": {
    "papermill": {
     "duration": 0.058323,
     "end_time": "2020-07-02T04:23:02.913753",
     "exception": false,
     "start_time": "2020-07-02T04:23:02.855430",
     "status": "completed"
    },
    "tags": []
   },
   "source": [
    "<a id=\"LoadData\"></a>\n",
    "## 3. Load data"
   ]
  },
  {
   "cell_type": "code",
   "execution_count": 34,
   "metadata": {
    "execution": {
     "iopub.execute_input": "2020-07-02T04:23:03.055133Z",
     "iopub.status.busy": "2020-07-02T04:23:03.053766Z",
     "iopub.status.idle": "2020-07-02T04:23:03.097467Z",
     "shell.execute_reply": "2020-07-02T04:23:03.096215Z"
    },
    "papermill": {
     "duration": 0.116914,
     "end_time": "2020-07-02T04:23:03.097708",
     "exception": false,
     "start_time": "2020-07-02T04:23:02.980794",
     "status": "completed"
    },
    "tags": []
   },
   "outputs": [],
   "source": [
    "# Get train/test folds\n",
    "folds_train, folds_val, folds_test = evaluation_setup('fold1', dataset.fold_list,\n",
    "                                             params_dataset['evaluation_mode'],\n",
    "                                             use_validate_set=True)\n",
    "#initialise Data Generator\n",
    "data_gen_train = DataGenerator(dataset, features, folds=folds_train,\n",
    "                               batch_size=params_train['batch_size'],\n",
    "                               shuffle=True, train=True, scaler=None)"
   ]
  },
  {
   "cell_type": "markdown",
   "metadata": {
    "papermill": {
     "duration": 0.063918,
     "end_time": "2020-07-02T04:23:03.227896",
     "exception": false,
     "start_time": "2020-07-02T04:23:03.163978",
     "status": "completed"
    },
    "tags": []
   },
   "source": [
    "And also fit a scaler and transform the training data."
   ]
  },
  {
   "cell_type": "code",
   "execution_count": 35,
   "metadata": {
    "execution": {
     "iopub.execute_input": "2020-07-02T04:23:03.322478Z",
     "iopub.status.busy": "2020-07-02T04:23:03.321144Z",
     "iopub.status.idle": "2020-07-02T04:23:03.573763Z",
     "shell.execute_reply": "2020-07-02T04:23:03.574857Z"
    },
    "papermill": {
     "duration": 0.305535,
     "end_time": "2020-07-02T04:23:03.575117",
     "exception": false,
     "start_time": "2020-07-02T04:23:03.269582",
     "status": "completed"
    },
    "tags": []
   },
   "outputs": [
    {
     "name": "stdout",
     "output_type": "stream",
     "text": [
      "Fitting scaler ...\n",
      "Done!\n"
     ]
    }
   ],
   "source": [
    "scaler = Scaler(normalizer=params_model['normalizer'])\n",
    "print('Fitting scaler ...')\n",
    "scaler.fit(data_gen_train)\n",
    "print('Done!')\n",
    "\n",
    "data_gen_train.set_scaler(scaler)"
   ]
  },
  {
   "cell_type": "markdown",
   "metadata": {
    "papermill": {
     "duration": 0.044803,
     "end_time": "2020-07-02T04:23:03.672870",
     "exception": false,
     "start_time": "2020-07-02T04:23:03.628067",
     "status": "completed"
    },
    "tags": []
   },
   "source": [
    "Initialise data generator"
   ]
  },
  {
   "cell_type": "code",
   "execution_count": 36,
   "metadata": {
    "execution": {
     "iopub.execute_input": "2020-07-02T04:23:03.781496Z",
     "iopub.status.busy": "2020-07-02T04:23:03.780177Z",
     "iopub.status.idle": "2020-07-02T04:23:03.825381Z",
     "shell.execute_reply": "2020-07-02T04:23:03.826470Z"
    },
    "papermill": {
     "duration": 0.103748,
     "end_time": "2020-07-02T04:23:03.826729",
     "exception": false,
     "start_time": "2020-07-02T04:23:03.722981",
     "status": "completed"
    },
    "tags": []
   },
   "outputs": [],
   "source": [
    "data_gen_val = DataGenerator(dataset, features, folds=folds_val,\n",
    "                             batch_size=params_train['batch_size'],\n",
    "                             shuffle=False, train=False, scaler=scaler)"
   ]
  },
  {
   "cell_type": "markdown",
   "metadata": {
    "papermill": {
     "duration": 0.037958,
     "end_time": "2020-07-02T04:23:03.907628",
     "exception": false,
     "start_time": "2020-07-02T04:23:03.869670",
     "status": "completed"
    },
    "tags": []
   },
   "source": [
    "<a id=\"InitModel\"></a>\n",
    "## 4. Initialize model"
   ]
  },
  {
   "cell_type": "code",
   "execution_count": 37,
   "metadata": {
    "execution": {
     "iopub.execute_input": "2020-07-02T04:23:03.976984Z",
     "iopub.status.busy": "2020-07-02T04:23:03.976317Z",
     "iopub.status.idle": "2020-07-02T04:23:04.894200Z",
     "shell.execute_reply": "2020-07-02T04:23:04.895290Z"
    },
    "papermill": {
     "duration": 0.959315,
     "end_time": "2020-07-02T04:23:04.895552",
     "exception": false,
     "start_time": "2020-07-02T04:23:03.936237",
     "status": "completed"
    },
    "scrolled": true,
    "tags": []
   },
   "outputs": [
    {
     "name": "stdout",
     "output_type": "stream",
     "text": [
      "0 (?, 50, 40, 128)\n",
      "1 (?, 50, 8, 128)\n",
      "2 (?, 50, 4, 128)\n",
      "_________________________________________________________________\n",
      "Layer (type)                 Output Shape              Param #   \n",
      "=================================================================\n",
      "input (InputLayer)           (None, 50, 40)            0         \n",
      "_________________________________________________________________\n",
      "lambda (Lambda)              (None, 50, 40, 1)         0         \n",
      "_________________________________________________________________\n",
      "conv2d_16 (Conv2D)           (None, 50, 40, 128)       1280      \n",
      "_________________________________________________________________\n",
      "batch_normalization_16 (Batc (None, 50, 40, 128)       160       \n",
      "_________________________________________________________________\n",
      "activation_16 (Activation)   (None, 50, 40, 128)       0         \n",
      "_________________________________________________________________\n",
      "max_pooling2d_16 (MaxPooling (None, 50, 8, 128)        0         \n",
      "_________________________________________________________________\n",
      "dropout_21 (Dropout)         (None, 50, 8, 128)        0         \n",
      "_________________________________________________________________\n",
      "conv2d_17 (Conv2D)           (None, 50, 8, 128)        147584    \n",
      "_________________________________________________________________\n",
      "batch_normalization_17 (Batc (None, 50, 8, 128)        32        \n",
      "_________________________________________________________________\n",
      "activation_17 (Activation)   (None, 50, 8, 128)        0         \n",
      "_________________________________________________________________\n",
      "max_pooling2d_17 (MaxPooling (None, 50, 4, 128)        0         \n",
      "_________________________________________________________________\n",
      "dropout_22 (Dropout)         (None, 50, 4, 128)        0         \n",
      "_________________________________________________________________\n",
      "conv2d_18 (Conv2D)           (None, 50, 4, 128)        147584    \n",
      "_________________________________________________________________\n",
      "batch_normalization_18 (Batc (None, 50, 4, 128)        16        \n",
      "_________________________________________________________________\n",
      "activation_18 (Activation)   (None, 50, 4, 128)        0         \n",
      "_________________________________________________________________\n",
      "max_pooling2d_18 (MaxPooling (None, 50, 2, 128)        0         \n",
      "_________________________________________________________________\n",
      "dropout_23 (Dropout)         (None, 50, 2, 128)        0         \n",
      "_________________________________________________________________\n",
      "reshape_6 (Reshape)          (None, 50, 256)           0         \n",
      "_________________________________________________________________\n",
      "bidirectional_9 (Bidirection (None, 50, 32)            55488     \n",
      "_________________________________________________________________\n",
      "bidirectional_10 (Bidirectio (None, 50, 32)            12480     \n",
      "_________________________________________________________________\n",
      "time_distributed_11 (TimeDis (None, 50, 32)            1056      \n",
      "_________________________________________________________________\n",
      "dropout_24 (Dropout)         (None, 50, 32)            0         \n",
      "_________________________________________________________________\n",
      "time_distributed_12 (TimeDis (None, 50, 6)             198       \n",
      "_________________________________________________________________\n",
      "mean (Lambda)                (None, 6)                 0         \n",
      "_________________________________________________________________\n",
      "strong_out (Activation)      (None, 6)                 0         \n",
      "=================================================================\n",
      "Total params: 365,878\n",
      "Trainable params: 365,774\n",
      "Non-trainable params: 104\n",
      "_________________________________________________________________\n"
     ]
    }
   ],
   "source": [
    "features_shape = features.get_shape()\n",
    "n_frames_cnn = features_shape[1]\n",
    "n_freq_cnn = features_shape[2]\n",
    "n_classes = len(dataset.label_list)\n",
    "\n",
    "metrics = ['sed']\n",
    "\n",
    "model_container = A_CRNN(model=None, model_path=None, n_classes=n_classes, \n",
    "                         n_frames_cnn=n_frames_cnn, n_freq_cnn=n_freq_cnn,\n",
    "                         metrics=metrics, final_activation='sigmoid',\n",
    "                         bidirectional=True)\n",
    "\n",
    "model_container.model.summary()"
   ]
  },
  {
   "cell_type": "markdown",
   "metadata": {
    "papermill": {
     "duration": 0.041556,
     "end_time": "2020-07-02T04:23:04.994760",
     "exception": false,
     "start_time": "2020-07-02T04:23:04.953204",
     "status": "completed"
    },
    "tags": []
   },
   "source": [
    "<a id=\"TrainModel\"></a>\n",
    "## 5. Train model"
   ]
  },
  {
   "cell_type": "code",
   "execution_count": 39,
   "metadata": {},
   "outputs": [],
   "source": [
    "X_train, Y_train = data_gen_train.get_data()"
   ]
  },
  {
   "cell_type": "code",
   "execution_count": 41,
   "metadata": {
    "execution": {
     "iopub.execute_input": "2020-07-02T04:23:05.090667Z",
     "iopub.status.busy": "2020-07-02T04:23:05.089320Z"
    },
    "papermill": {
     "duration": 32840.182271,
     "end_time": "2020-07-02T13:30:25.218720",
     "exception": false,
     "start_time": "2020-07-02T04:23:05.036449",
     "status": "completed"
    },
    "scrolled": false,
    "tags": []
   },
   "outputs": [
    {
     "name": "stdout",
     "output_type": "stream",
     "text": [
      "Epoch 1/300\n",
      "4063/4063 [==============================] - 22s 5ms/step - loss: 1.7863\n",
      "F1 = 0.4836, ER = 1.6335 - Best val F1: 0.4836\n",
      "                  (IMPROVEMENT, saving)\n",
      "\n",
      "Epoch 2/300\n",
      "4063/4063 [==============================] - 18s 4ms/step - loss: 1.7212\n",
      "F1 = 0.5052, ER = 1.3518 - Best val F1: 0.5052\n",
      "                  (IMPROVEMENT, saving)\n",
      "\n",
      "Epoch 3/300\n",
      "4063/4063 [==============================] - 18s 4ms/step - loss: 1.6874\n",
      "F1 = 0.4754, ER = 1.8069 - Best val F1: 0.5052 (1)\n",
      "\n",
      "Epoch 4/300\n",
      "4063/4063 [==============================] - 18s 4ms/step - loss: 1.6273\n",
      "F1 = 0.5225, ER = 1.1624 - Best val F1: 0.5225\n",
      "                  (IMPROVEMENT, saving)\n",
      "\n",
      "Epoch 5/300\n",
      "4063/4063 [==============================] - 18s 4ms/step - loss: 1.5586\n",
      "F1 = 0.4642, ER = 1.3948 - Best val F1: 0.5225 (3)\n",
      "\n",
      "Epoch 6/300\n",
      "4063/4063 [==============================] - 18s 4ms/step - loss: 1.5395\n",
      "F1 = 0.4679, ER = 1.2927 - Best val F1: 0.5225 (3)\n",
      "\n",
      "Epoch 7/300\n",
      "4063/4063 [==============================] - 18s 4ms/step - loss: 1.5360\n",
      "F1 = 0.5454, ER = 0.9606 - Best val F1: 0.5454\n",
      "                  (IMPROVEMENT, saving)\n",
      "\n",
      "Epoch 8/300\n",
      "4063/4063 [==============================] - 18s 4ms/step - loss: 1.5039\n",
      "F1 = 0.5469, ER = 0.9422 - Best val F1: 0.5469\n",
      "                  (IMPROVEMENT, saving)\n",
      "\n",
      "Epoch 9/300\n",
      "4063/4063 [==============================] - 18s 4ms/step - loss: 1.4997\n",
      "F1 = 0.4952, ER = 1.1673 - Best val F1: 0.5469 (7)\n",
      "\n",
      "Epoch 10/300\n",
      "4063/4063 [==============================] - 18s 4ms/step - loss: 1.4981\n",
      "F1 = 0.5267, ER = 1.0381 - Best val F1: 0.5469 (7)\n",
      "\n",
      "Epoch 11/300\n",
      "4063/4063 [==============================] - 18s 4ms/step - loss: 1.4724\n",
      "F1 = 0.4980, ER = 1.1378 - Best val F1: 0.5469 (7)\n",
      "\n",
      "Epoch 12/300\n",
      "4063/4063 [==============================] - 18s 4ms/step - loss: 1.4701\n",
      "F1 = 0.5048, ER = 1.0332 - Best val F1: 0.5469 (7)\n",
      "\n",
      "Epoch 13/300\n",
      "4063/4063 [==============================] - 18s 4ms/step - loss: 1.4514\n",
      "F1 = 0.5256, ER = 0.9815 - Best val F1: 0.5469 (7)\n",
      "\n",
      "Epoch 14/300\n",
      "4063/4063 [==============================] - 18s 4ms/step - loss: 1.4562\n",
      "F1 = 0.5138, ER = 1.0590 - Best val F1: 0.5469 (7)\n",
      "\n",
      "Epoch 15/300\n",
      "4063/4063 [==============================] - 18s 4ms/step - loss: 1.4458\n",
      "F1 = 0.4841, ER = 1.0984 - Best val F1: 0.5469 (7)\n",
      "\n",
      "Epoch 16/300\n",
      "4063/4063 [==============================] - 18s 4ms/step - loss: 1.4287\n",
      "F1 = 0.5408, ER = 0.9077 - Best val F1: 0.5469 (7)\n",
      "\n",
      "Epoch 17/300\n",
      "4063/4063 [==============================] - 18s 4ms/step - loss: 1.4303\n",
      "F1 = 0.4754, ER = 1.0886 - Best val F1: 0.5469 (7)\n",
      "\n",
      "Epoch 18/300\n",
      "4063/4063 [==============================] - 18s 4ms/step - loss: 1.4223\n",
      "F1 = 0.4186, ER = 1.2792 - Best val F1: 0.5469 (7)\n",
      "\n",
      "Epoch 19/300\n",
      "4063/4063 [==============================] - 18s 4ms/step - loss: 1.4133\n",
      "F1 = 0.4834, ER = 1.0652 - Best val F1: 0.5469 (7)\n",
      "\n",
      "Epoch 20/300\n",
      "4063/4063 [==============================] - 18s 4ms/step - loss: 1.4126\n",
      "F1 = 0.4909, ER = 1.0554 - Best val F1: 0.5469 (7)\n",
      "\n",
      "Epoch 21/300\n",
      "4063/4063 [==============================] - 18s 4ms/step - loss: 1.4005\n",
      "F1 = 0.4961, ER = 1.0369 - Best val F1: 0.5469 (7)\n",
      "\n",
      "Epoch 22/300\n",
      "4063/4063 [==============================] - 18s 4ms/step - loss: 1.4015\n",
      "F1 = 0.4883, ER = 1.0529 - Best val F1: 0.5469 (7)\n",
      "\n",
      "Epoch 23/300\n",
      "4063/4063 [==============================] - 18s 4ms/step - loss: 1.3898\n",
      "F1 = 0.4648, ER = 1.0959 - Best val F1: 0.5469 (7)\n",
      "\n",
      "Epoch 24/300\n",
      "4063/4063 [==============================] - 18s 4ms/step - loss: 1.3960\n",
      "F1 = 0.4977, ER = 0.9754 - Best val F1: 0.5469 (7)\n",
      "\n",
      "Epoch 25/300\n",
      "4063/4063 [==============================] - 18s 4ms/step - loss: 1.3941\n",
      "F1 = 0.5138, ER = 0.9496 - Best val F1: 0.5469 (7)\n",
      "\n",
      "Epoch 26/300\n",
      "4063/4063 [==============================] - 18s 4ms/step - loss: 1.3860\n",
      "F1 = 0.4575, ER = 1.1058 - Best val F1: 0.5469 (7)\n",
      "\n",
      "Epoch 27/300\n",
      "4063/4063 [==============================] - 18s 4ms/step - loss: 1.3856\n",
      "F1 = 0.4900, ER = 1.0037 - Best val F1: 0.5469 (7)\n",
      "\n",
      "Epoch 28/300\n",
      "4063/4063 [==============================] - 18s 4ms/step - loss: 1.3752\n",
      "F1 = 0.4700, ER = 1.0541 - Best val F1: 0.5469 (7)\n",
      "\n",
      "Epoch 29/300\n",
      "4063/4063 [==============================] - 18s 4ms/step - loss: 1.3777\n",
      "F1 = 0.4311, ER = 1.1415 - Best val F1: 0.5469 (7)\n",
      "\n",
      "Epoch 30/300\n",
      "4063/4063 [==============================] - 18s 4ms/step - loss: 1.3751\n",
      "F1 = 0.4868, ER = 1.0664 - Best val F1: 0.5469 (7)\n",
      "\n",
      "Epoch 31/300\n",
      "1632/4063 [===========>..................] - ETA: 10s - loss: 1.3531"
     ]
    },
    {
     "ename": "KeyboardInterrupt",
     "evalue": "",
     "output_type": "error",
     "traceback": [
      "\u001b[0;31m---------------------------------------------------------------------------\u001b[0m",
      "\u001b[0;31mKeyboardInterrupt\u001b[0m                         Traceback (most recent call last)",
      "\u001b[0;32m<ipython-input-41-eda6ed4eb35f>\u001b[0m in \u001b[0;36m<module>\u001b[0;34m\u001b[0m\n\u001b[1;32m      9\u001b[0m                       \u001b[0mlabel_list\u001b[0m\u001b[0;34m=\u001b[0m\u001b[0mdataset\u001b[0m\u001b[0;34m.\u001b[0m\u001b[0mlabel_list\u001b[0m\u001b[0;34m,\u001b[0m\u001b[0;34m\u001b[0m\u001b[0;34m\u001b[0m\u001b[0m\n\u001b[1;32m     10\u001b[0m                       \u001b[0msequence_time_sec\u001b[0m\u001b[0;34m=\u001b[0m\u001b[0mparams_features\u001b[0m\u001b[0;34m[\u001b[0m\u001b[0;34m'sequence_hop_time'\u001b[0m\u001b[0;34m]\u001b[0m\u001b[0;34m,\u001b[0m\u001b[0;34m\u001b[0m\u001b[0;34m\u001b[0m\u001b[0m\n\u001b[0;32m---> 11\u001b[0;31m                       **params_train)\n\u001b[0m",
      "\u001b[0;32m~/DCASE-models/dcase_models/model/container.py\u001b[0m in \u001b[0;36mtrain\u001b[0;34m(self, data_train, data_val, weights_path, optimizer, learning_rate, early_stopping, considered_improvement, losses, loss_weights, sequence_time_sec, metric_resolution_sec, label_list, shuffle, **kwargs_keras_fit)\u001b[0m\n\u001b[1;32m    228\u001b[0m                 \u001b[0mcallbacks\u001b[0m\u001b[0;34m=\u001b[0m\u001b[0;34m[\u001b[0m\u001b[0mmetrics_callback\u001b[0m\u001b[0;34m,\u001b[0m \u001b[0mlog\u001b[0m\u001b[0;34m]\u001b[0m\u001b[0;34m,\u001b[0m\u001b[0;34m\u001b[0m\u001b[0;34m\u001b[0m\u001b[0m\n\u001b[1;32m    229\u001b[0m                 \u001b[0mvalidation_data\u001b[0m\u001b[0;34m=\u001b[0m\u001b[0mvalidation_data\u001b[0m\u001b[0;34m,\u001b[0m\u001b[0;34m\u001b[0m\u001b[0;34m\u001b[0m\u001b[0m\n\u001b[0;32m--> 230\u001b[0;31m                 \u001b[0;34m**\u001b[0m\u001b[0mkwargs_keras_fit\u001b[0m\u001b[0;34m\u001b[0m\u001b[0;34m\u001b[0m\u001b[0m\n\u001b[0m\u001b[1;32m    231\u001b[0m             )\n\u001b[1;32m    232\u001b[0m         \u001b[0;32melse\u001b[0m\u001b[0;34m:\u001b[0m\u001b[0;34m\u001b[0m\u001b[0;34m\u001b[0m\u001b[0m\n",
      "\u001b[0;32m~/anaconda3/envs/dcase/lib/python3.6/site-packages/keras/engine/training.py\u001b[0m in \u001b[0;36mfit\u001b[0;34m(self, x, y, batch_size, epochs, verbose, callbacks, validation_split, validation_data, shuffle, class_weight, sample_weight, initial_epoch, steps_per_epoch, validation_steps, **kwargs)\u001b[0m\n\u001b[1;32m   1037\u001b[0m                                         \u001b[0minitial_epoch\u001b[0m\u001b[0;34m=\u001b[0m\u001b[0minitial_epoch\u001b[0m\u001b[0;34m,\u001b[0m\u001b[0;34m\u001b[0m\u001b[0;34m\u001b[0m\u001b[0m\n\u001b[1;32m   1038\u001b[0m                                         \u001b[0msteps_per_epoch\u001b[0m\u001b[0;34m=\u001b[0m\u001b[0msteps_per_epoch\u001b[0m\u001b[0;34m,\u001b[0m\u001b[0;34m\u001b[0m\u001b[0;34m\u001b[0m\u001b[0m\n\u001b[0;32m-> 1039\u001b[0;31m                                         validation_steps=validation_steps)\n\u001b[0m\u001b[1;32m   1040\u001b[0m \u001b[0;34m\u001b[0m\u001b[0m\n\u001b[1;32m   1041\u001b[0m     def evaluate(self, x=None, y=None,\n",
      "\u001b[0;32m~/anaconda3/envs/dcase/lib/python3.6/site-packages/keras/engine/training_arrays.py\u001b[0m in \u001b[0;36mfit_loop\u001b[0;34m(model, f, ins, out_labels, batch_size, epochs, verbose, callbacks, val_f, val_ins, shuffle, callback_metrics, initial_epoch, steps_per_epoch, validation_steps)\u001b[0m\n\u001b[1;32m    197\u001b[0m                     \u001b[0mins_batch\u001b[0m\u001b[0;34m[\u001b[0m\u001b[0mi\u001b[0m\u001b[0;34m]\u001b[0m \u001b[0;34m=\u001b[0m \u001b[0mins_batch\u001b[0m\u001b[0;34m[\u001b[0m\u001b[0mi\u001b[0m\u001b[0;34m]\u001b[0m\u001b[0;34m.\u001b[0m\u001b[0mtoarray\u001b[0m\u001b[0;34m(\u001b[0m\u001b[0;34m)\u001b[0m\u001b[0;34m\u001b[0m\u001b[0;34m\u001b[0m\u001b[0m\n\u001b[1;32m    198\u001b[0m \u001b[0;34m\u001b[0m\u001b[0m\n\u001b[0;32m--> 199\u001b[0;31m                 \u001b[0mouts\u001b[0m \u001b[0;34m=\u001b[0m \u001b[0mf\u001b[0m\u001b[0;34m(\u001b[0m\u001b[0mins_batch\u001b[0m\u001b[0;34m)\u001b[0m\u001b[0;34m\u001b[0m\u001b[0;34m\u001b[0m\u001b[0m\n\u001b[0m\u001b[1;32m    200\u001b[0m                 \u001b[0mouts\u001b[0m \u001b[0;34m=\u001b[0m \u001b[0mto_list\u001b[0m\u001b[0;34m(\u001b[0m\u001b[0mouts\u001b[0m\u001b[0;34m)\u001b[0m\u001b[0;34m\u001b[0m\u001b[0;34m\u001b[0m\u001b[0m\n\u001b[1;32m    201\u001b[0m                 \u001b[0;32mfor\u001b[0m \u001b[0ml\u001b[0m\u001b[0;34m,\u001b[0m \u001b[0mo\u001b[0m \u001b[0;32min\u001b[0m \u001b[0mzip\u001b[0m\u001b[0;34m(\u001b[0m\u001b[0mout_labels\u001b[0m\u001b[0;34m,\u001b[0m \u001b[0mouts\u001b[0m\u001b[0;34m)\u001b[0m\u001b[0;34m:\u001b[0m\u001b[0;34m\u001b[0m\u001b[0;34m\u001b[0m\u001b[0m\n",
      "\u001b[0;32m~/anaconda3/envs/dcase/lib/python3.6/site-packages/keras/backend/tensorflow_backend.py\u001b[0m in \u001b[0;36m__call__\u001b[0;34m(self, inputs)\u001b[0m\n\u001b[1;32m   2713\u001b[0m                 \u001b[0;32mreturn\u001b[0m \u001b[0mself\u001b[0m\u001b[0;34m.\u001b[0m\u001b[0m_legacy_call\u001b[0m\u001b[0;34m(\u001b[0m\u001b[0minputs\u001b[0m\u001b[0;34m)\u001b[0m\u001b[0;34m\u001b[0m\u001b[0;34m\u001b[0m\u001b[0m\n\u001b[1;32m   2714\u001b[0m \u001b[0;34m\u001b[0m\u001b[0m\n\u001b[0;32m-> 2715\u001b[0;31m             \u001b[0;32mreturn\u001b[0m \u001b[0mself\u001b[0m\u001b[0;34m.\u001b[0m\u001b[0m_call\u001b[0m\u001b[0;34m(\u001b[0m\u001b[0minputs\u001b[0m\u001b[0;34m)\u001b[0m\u001b[0;34m\u001b[0m\u001b[0;34m\u001b[0m\u001b[0m\n\u001b[0m\u001b[1;32m   2716\u001b[0m         \u001b[0;32melse\u001b[0m\u001b[0;34m:\u001b[0m\u001b[0;34m\u001b[0m\u001b[0;34m\u001b[0m\u001b[0m\n\u001b[1;32m   2717\u001b[0m             \u001b[0;32mif\u001b[0m \u001b[0mpy_any\u001b[0m\u001b[0;34m(\u001b[0m\u001b[0mis_tensor\u001b[0m\u001b[0;34m(\u001b[0m\u001b[0mx\u001b[0m\u001b[0;34m)\u001b[0m \u001b[0;32mfor\u001b[0m \u001b[0mx\u001b[0m \u001b[0;32min\u001b[0m \u001b[0minputs\u001b[0m\u001b[0;34m)\u001b[0m\u001b[0;34m:\u001b[0m\u001b[0;34m\u001b[0m\u001b[0;34m\u001b[0m\u001b[0m\n",
      "\u001b[0;32m~/anaconda3/envs/dcase/lib/python3.6/site-packages/keras/backend/tensorflow_backend.py\u001b[0m in \u001b[0;36m_call\u001b[0;34m(self, inputs)\u001b[0m\n\u001b[1;32m   2673\u001b[0m             \u001b[0mfetched\u001b[0m \u001b[0;34m=\u001b[0m \u001b[0mself\u001b[0m\u001b[0;34m.\u001b[0m\u001b[0m_callable_fn\u001b[0m\u001b[0;34m(\u001b[0m\u001b[0;34m*\u001b[0m\u001b[0marray_vals\u001b[0m\u001b[0;34m,\u001b[0m \u001b[0mrun_metadata\u001b[0m\u001b[0;34m=\u001b[0m\u001b[0mself\u001b[0m\u001b[0;34m.\u001b[0m\u001b[0mrun_metadata\u001b[0m\u001b[0;34m)\u001b[0m\u001b[0;34m\u001b[0m\u001b[0;34m\u001b[0m\u001b[0m\n\u001b[1;32m   2674\u001b[0m         \u001b[0;32melse\u001b[0m\u001b[0;34m:\u001b[0m\u001b[0;34m\u001b[0m\u001b[0;34m\u001b[0m\u001b[0m\n\u001b[0;32m-> 2675\u001b[0;31m             \u001b[0mfetched\u001b[0m \u001b[0;34m=\u001b[0m \u001b[0mself\u001b[0m\u001b[0;34m.\u001b[0m\u001b[0m_callable_fn\u001b[0m\u001b[0;34m(\u001b[0m\u001b[0;34m*\u001b[0m\u001b[0marray_vals\u001b[0m\u001b[0;34m)\u001b[0m\u001b[0;34m\u001b[0m\u001b[0;34m\u001b[0m\u001b[0m\n\u001b[0m\u001b[1;32m   2676\u001b[0m         \u001b[0;32mreturn\u001b[0m \u001b[0mfetched\u001b[0m\u001b[0;34m[\u001b[0m\u001b[0;34m:\u001b[0m\u001b[0mlen\u001b[0m\u001b[0;34m(\u001b[0m\u001b[0mself\u001b[0m\u001b[0;34m.\u001b[0m\u001b[0moutputs\u001b[0m\u001b[0;34m)\u001b[0m\u001b[0;34m]\u001b[0m\u001b[0;34m\u001b[0m\u001b[0;34m\u001b[0m\u001b[0m\n\u001b[1;32m   2677\u001b[0m \u001b[0;34m\u001b[0m\u001b[0m\n",
      "\u001b[0;32m~/anaconda3/envs/dcase/lib/python3.6/site-packages/tensorflow/python/client/session.py\u001b[0m in \u001b[0;36m__call__\u001b[0;34m(self, *args, **kwargs)\u001b[0m\n\u001b[1;32m   1437\u001b[0m           ret = tf_session.TF_SessionRunCallable(\n\u001b[1;32m   1438\u001b[0m               \u001b[0mself\u001b[0m\u001b[0;34m.\u001b[0m\u001b[0m_session\u001b[0m\u001b[0;34m.\u001b[0m\u001b[0m_session\u001b[0m\u001b[0;34m,\u001b[0m \u001b[0mself\u001b[0m\u001b[0;34m.\u001b[0m\u001b[0m_handle\u001b[0m\u001b[0;34m,\u001b[0m \u001b[0margs\u001b[0m\u001b[0;34m,\u001b[0m \u001b[0mstatus\u001b[0m\u001b[0;34m,\u001b[0m\u001b[0;34m\u001b[0m\u001b[0;34m\u001b[0m\u001b[0m\n\u001b[0;32m-> 1439\u001b[0;31m               run_metadata_ptr)\n\u001b[0m\u001b[1;32m   1440\u001b[0m         \u001b[0;32mif\u001b[0m \u001b[0mrun_metadata\u001b[0m\u001b[0;34m:\u001b[0m\u001b[0;34m\u001b[0m\u001b[0;34m\u001b[0m\u001b[0m\n\u001b[1;32m   1441\u001b[0m           \u001b[0mproto_data\u001b[0m \u001b[0;34m=\u001b[0m \u001b[0mtf_session\u001b[0m\u001b[0;34m.\u001b[0m\u001b[0mTF_GetBuffer\u001b[0m\u001b[0;34m(\u001b[0m\u001b[0mrun_metadata_ptr\u001b[0m\u001b[0;34m)\u001b[0m\u001b[0;34m\u001b[0m\u001b[0;34m\u001b[0m\u001b[0m\n",
      "\u001b[0;31mKeyboardInterrupt\u001b[0m: "
     ]
    }
   ],
   "source": [
    "#define path to save weights and training log\n",
    "exp_folder = './'\n",
    "# Replacing default training parameters by paper parameters\n",
    "params_train[\"epochs\"] = 300\n",
    "params_train[\"early_stopping\"] = 50\n",
    "params_train[\"batch_size\"] = 32\n",
    "\n",
    "model_container.train((X_train, Y_train), data_gen_val, weights_path=exp_folder, \n",
    "                      label_list=dataset.label_list,\n",
    "                      sequence_time_sec=params_features['sequence_hop_time'],\n",
    "                      **params_train)"
   ]
  },
  {
   "cell_type": "markdown",
   "metadata": {
    "papermill": {
     "duration": null,
     "end_time": null,
     "exception": null,
     "start_time": null,
     "status": "completed"
    },
    "tags": []
   },
   "source": [
    "<a id=\"EvaluateModel\"></a>\n",
    "## 6. Evaluate Model"
   ]
  },
  {
   "cell_type": "code",
   "execution_count": 46,
   "metadata": {
    "papermill": {
     "duration": null,
     "end_time": null,
     "exception": null,
     "start_time": null,
     "status": "completed"
    },
    "tags": []
   },
   "outputs": [
    {
     "name": "stdout",
     "output_type": "stream",
     "text": [
      "Segment based metrics\n",
      "========================================\n",
      "  Evaluated length                  : 1753.00 sec\n",
      "  Evaluated files                   : 8 \n",
      "  Segment length                    : 1.00 sec\n",
      "\n",
      "  Overall metrics (micro-average)\n",
      "  ======================================\n",
      "  F-measure\n",
      "    F-measure (F1)                  : 36.08 %\n",
      "    Precision                       : 27.36 %\n",
      "    Recall                          : 52.97 %\n",
      "  Error rate\n",
      "    Error rate (ER)                 : 1.52 \n",
      "    Substitution rate               : 0.36 \n",
      "    Deletion rate                   : 0.11 \n",
      "    Insertion rate                  : 1.05 \n",
      "  Accuracy\n",
      "    Sensitivity                     : 52.97 %\n",
      "    Specificity                     : 74.12 %\n",
      "    Balanced accuracy               : 63.54 %\n",
      "    Accuracy                        : 70.83 %\n",
      "\n",
      "  Class-wise average metrics (macro-average)\n",
      "  ======================================\n",
      "  F-measure\n",
      "    F-measure (F1)                  : 28.27 %\n",
      "    Precision                       : 21.27 %\n",
      "    Recall                          : 37.85 %\n",
      "  Error rate\n",
      "    Error rate (ER)                 : 2.47 \n",
      "    Deletion rate                   : 0.62 \n",
      "    Insertion rate                  : 1.85 \n",
      "  Accuracy\n",
      "    Sensitivity                     : 37.85 %\n",
      "    Specificity                     : 71.68 %\n",
      "    Balanced accuracy               : 54.77 %\n",
      "    Accuracy                        : 70.83 %\n",
      "  \n",
      "\n",
      "  Class-wise metrics\n",
      "  ======================================\n",
      "    Event label  | Nref    Nsys  | F        Pre      Rec    | ER       Del      Ins    | Sens     Spec     Bacc     Acc     \n",
      "    ------------ | -----   ----- | ------   ------   ------ | ------   ------   ------ | ------   ------   ------   ------  \n",
      "    brakes squ.. | 88      0     | nan%     nan%     0.0%   | 1.00     1.00     0.00   | 0.0%     100.0%   50.0%    95.0%   \n",
      "    car          | 718     1000  | 52.5%    45.1%    62.8%  | 1.14     0.37     0.76   | 62.8%    47.0%    54.9%    53.5%   \n",
      "    children     | 45      185   | 0.0%     0.0%     0.0%   | 5.11     1.00     4.11   | 0.0%     89.2%    44.6%    86.9%   \n",
      "    large vehi.. | 177     560   | 39.6%    26.1%    82.5%  | 2.51     0.18     2.34   | 82.5%    73.7%    78.1%    74.6%   \n",
      "    people spe.. | 245     589   | 13.7%    9.7%     23.3%  | 2.94     0.77     2.17   | 23.3%    64.7%    44.0%    58.9%   \n",
      "    people wal.. | 362     831   | 35.5%    25.5%    58.6%  | 2.12     0.41     1.71   | 58.6%    55.5%    57.0%    56.1%   \n",
      "\n",
      "\n"
     ]
    }
   ],
   "source": [
    "# Load best_weights\n",
    "model_container.load_model_weights(exp_folder)\n",
    "\n",
    "data_gen_test = DataGenerator(dataset, features, folds=folds_test,\n",
    "                              batch_size=params_train['batch_size'],\n",
    "                              shuffle=False, train=False, scaler=scaler)\n",
    "\n",
    "kwargs = {'sequence_time_sec': params_features['sequence_hop_time'],\n",
    "          'metric_resolution_sec': 1.0}\n",
    "results = model_container.evaluate(data_gen_test, label_list=dataset.label_list, **kwargs)\n",
    "\n",
    "print(results[metrics[0]])"
   ]
  }
 ],
 "metadata": {
  "kernelspec": {
   "display_name": "Python 3",
   "language": "python",
   "name": "python3"
  },
  "language_info": {
   "codemirror_mode": {
    "name": "ipython",
    "version": 3
   },
   "file_extension": ".py",
   "mimetype": "text/x-python",
   "name": "python",
   "nbconvert_exporter": "python",
   "pygments_lexer": "ipython3",
   "version": "3.6.10"
  },
  "papermill": {
   "duration": 32854.129223,
   "end_time": "2020-07-02T13:30:26.167424",
   "environment_variables": {},
   "exception": null,
   "input_path": "paper_Adavanne_et_al_ICASSP_2017_A_CRNN.ipynb",
   "output_path": "paper_Adavanne_et_al_ICASSP_2017_A_CRNN_output.ipynb",
   "parameters": {},
   "start_time": "2020-07-02T04:22:52.038201",
   "version": "2.1.1"
  }
 },
 "nbformat": 4,
 "nbformat_minor": 4
}
