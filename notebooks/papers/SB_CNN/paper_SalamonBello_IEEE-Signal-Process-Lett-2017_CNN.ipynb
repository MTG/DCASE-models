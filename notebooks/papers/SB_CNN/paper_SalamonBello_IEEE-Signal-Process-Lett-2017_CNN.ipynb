{
 "cells": [
  {
   "cell_type": "markdown",
   "metadata": {
    "papermill": {
     "duration": 0.300131,
     "end_time": "2020-07-02T00:05:54.487408",
     "exception": false,
     "start_time": "2020-07-02T00:05:54.187277",
     "status": "completed"
    },
    "tags": []
   },
   "source": [
    "<pre>\n",
    " ____   ____    _    ____  _____                          _      _     \n",
    "|  _ \\ / ___|  / \\  / ___|| ____|     _ __ ___   ___   __| | ___| |___ \n",
    "| | | | |     / _ \\ \\___ \\|  _| _____| '_ ` _ \\ / _ \\ / _` |/ _ \\ / __|\n",
    "| |_| | |___ / ___ \\ ___) | |__|_____| | | | | | (_) | (_| |  __/ \\__ \\\n",
    "|____/ \\____/_/   \\_\\____/|_____|    |_| |_| |_|\\___/ \\__,_|\\___|_|___/\n",
    "                                                                        \n",
    "</pre>\n",
    "\n",
    "# DCASE-models Notebooks\n",
    "Python Notebooks for [DCASE-models](https://github.com/pzinemanas/DCASE-models)\n",
    "\n",
    "---\n",
    "\n",
    "### About \n",
    "This Notebook reproduces *some* results for **Enviromental Sound Classification** presented in:\n",
    "<ul>\n",
    "<li><a href=\"http://www.justinsalamon.com/uploads/4/3/9/4/4394963/salamon_cnn-aug-env_ieeespl_2017.pdf\"><strong>\n",
    "    Deep Convolutional Neural Networks and Data Augmentation For Environmental Sound Classification</strong></a>\n",
    "    J. Salamon and J. P. Bello IEEE Signal Processing Letters, 24(3), pages 279 - 283, 2017.\n",
    "    <br>\n",
    "   <a type=\"button\" class=\"btn btn-default btn-xs\" target=\"_blank\" href=\"http://www.justinsalamon.com/uploads/4/3/9/4/4394963/salamon_cnn-aug-env_ieeespl_2017.pdf\"> PDF </a>\n",
    "   <a type=\"button\" class=\"btn btn-default btn-xs\" target=\"_blank\" href=\"https://ieeexplore.ieee.org/document/7829341\"> IEEE</a>\n",
    "    </li>   \n",
    "</ul>\n",
    "\n",
    "### Overview\n",
    "\n",
    "The paper introduces an adaptation of the Convolutional Neural Network (CNN) for environmental\n",
    "sound classification, using [UrbanSound8k dataset](https://urbansounddataset.weebly.com/urbansound8k.html). To overcome data scarcity,the dataset is augmented through the following transformations:\n",
    "* Time stretching\n",
    "* Pitch shifting\n",
    "* Dynamic Range Compression\n",
    "* Background Noise\n",
    "\n",
    "This notebook aims to reproduce results regarding the augmented set *PS1*, obtained by pitch shifting each sample by 4 values (in semitones): {−2, −1, 1, 2}. Reported accuracy for all classes can be found on *figure 3* on the paper.\n",
    "\n",
    "### Organization\n",
    "\n",
    "The Notebook is organized into the following sections.\n",
    "* [1. Load parameters](#LoadParameters)\n",
    "* [2. Data augmentation](#DataAugmentation)\n",
    "* [3. Extract features](#ExtractFeatures)\n",
    "* [4. Load data](#LoadData)\n",
    "* [5. Initialize model](#InitModel)\n",
    "* [6. Train model](#TrainModel)\n",
    "* [7. Evaluate model](#EvaluateModel)\n"
   ]
  },
  {
   "cell_type": "code",
   "execution_count": 1,
   "metadata": {
    "execution": {
     "iopub.execute_input": "2020-07-02T00:05:55.023786Z",
     "iopub.status.busy": "2020-07-02T00:05:55.022410Z",
     "iopub.status.idle": "2020-07-02T00:18:05.630685Z",
     "shell.execute_reply": "2020-07-02T00:18:05.631780Z"
    },
    "papermill": {
     "duration": 730.892071,
     "end_time": "2020-07-02T00:18:05.632060",
     "exception": false,
     "start_time": "2020-07-02T00:05:54.739989",
     "status": "completed"
    },
    "tags": []
   },
   "outputs": [
    {
     "name": "stderr",
     "output_type": "stream",
     "text": [
      "Using TensorFlow backend.\n",
      "/clusteruy/home/ihounie/.local/lib/python3.6/site-packages/tensorflow/python/framework/dtypes.py:523: FutureWarning: Passing (type, 1) or '1type' as a synonym of type is deprecated; in a future version of numpy, it will be understood as (type, (1,)) / '(1,)type'.\n",
      "  _np_qint8 = np.dtype([(\"qint8\", np.int8, 1)])\n",
      "/clusteruy/home/ihounie/.local/lib/python3.6/site-packages/tensorflow/python/framework/dtypes.py:524: FutureWarning: Passing (type, 1) or '1type' as a synonym of type is deprecated; in a future version of numpy, it will be understood as (type, (1,)) / '(1,)type'.\n",
      "  _np_quint8 = np.dtype([(\"quint8\", np.uint8, 1)])\n",
      "/clusteruy/home/ihounie/.local/lib/python3.6/site-packages/tensorflow/python/framework/dtypes.py:525: FutureWarning: Passing (type, 1) or '1type' as a synonym of type is deprecated; in a future version of numpy, it will be understood as (type, (1,)) / '(1,)type'.\n",
      "  _np_qint16 = np.dtype([(\"qint16\", np.int16, 1)])\n",
      "/clusteruy/home/ihounie/.local/lib/python3.6/site-packages/tensorflow/python/framework/dtypes.py:526: FutureWarning: Passing (type, 1) or '1type' as a synonym of type is deprecated; in a future version of numpy, it will be understood as (type, (1,)) / '(1,)type'.\n",
      "  _np_quint16 = np.dtype([(\"quint16\", np.uint16, 1)])\n",
      "/clusteruy/home/ihounie/.local/lib/python3.6/site-packages/tensorflow/python/framework/dtypes.py:527: FutureWarning: Passing (type, 1) or '1type' as a synonym of type is deprecated; in a future version of numpy, it will be understood as (type, (1,)) / '(1,)type'.\n",
      "  _np_qint32 = np.dtype([(\"qint32\", np.int32, 1)])\n",
      "/clusteruy/home/ihounie/.local/lib/python3.6/site-packages/tensorflow/python/framework/dtypes.py:532: FutureWarning: Passing (type, 1) or '1type' as a synonym of type is deprecated; in a future version of numpy, it will be understood as (type, (1,)) / '(1,)type'.\n",
      "  np_resource = np.dtype([(\"resource\", np.ubyte, 1)])\n"
     ]
    }
   ],
   "source": [
    "%load_ext autoreload\n",
    "%autoreload 2\n",
    "rootdir_path = '../../../'\n",
    "import sys\n",
    "import os\n",
    "import json\n",
    "import warnings\n",
    "import glob\n",
    "import numpy as np\n",
    "import argparse\n",
    "\n",
    "sys.path.append(rootdir_path)\n",
    "from dcase_models.util.files import load_json, mkdir_if_not_exists\n",
    "from dcase_models.data.data_generator import DataGenerator\n",
    "from dcase_models.data.datasets import UrbanSound8k\n",
    "from dcase_models.data.scaler import Scaler\n",
    "from dcase_models.data.data_augmentation import AugmentedDataset\n",
    "from dcase_models.data.features import MelSpectrogram\n",
    "from dcase_models.model.models import SB_CNN\n",
    "from dcase_models.util.data import evaluation_setup\n",
    "from dcase_models.util.files import mkdir_if_not_exists\n",
    "\n",
    "os.environ[\"CUDA_VISIBLE_DEVICES\"] = \"1\""
   ]
  },
  {
   "cell_type": "markdown",
   "metadata": {
    "papermill": {
     "duration": 0.257367,
     "end_time": "2020-07-02T00:18:06.215031",
     "exception": false,
     "start_time": "2020-07-02T00:18:05.957664",
     "status": "completed"
    },
    "tags": []
   },
   "source": [
    "<a id=\"LoadeParameters\"></a>\n",
    "## 1. Load parameters"
   ]
  },
  {
   "cell_type": "markdown",
   "metadata": {
    "papermill": {
     "duration": 0.161204,
     "end_time": "2020-07-02T00:18:06.579382",
     "exception": false,
     "start_time": "2020-07-02T00:18:06.418178",
     "status": "completed"
    },
    "tags": []
   },
   "source": [
    "Dataset, feature extraction, training and data augmentation default parameters are stored in a json file on the root directory."
   ]
  },
  {
   "cell_type": "code",
   "execution_count": 2,
   "metadata": {
    "execution": {
     "iopub.execute_input": "2020-07-02T00:18:07.141298Z",
     "iopub.status.busy": "2020-07-02T00:18:07.139937Z",
     "iopub.status.idle": "2020-07-02T00:20:41.988428Z",
     "shell.execute_reply": "2020-07-02T00:20:41.989504Z"
    },
    "papermill": {
     "duration": 155.129124,
     "end_time": "2020-07-02T00:20:41.989777",
     "exception": false,
     "start_time": "2020-07-02T00:18:06.860653",
     "status": "completed"
    },
    "tags": []
   },
   "outputs": [],
   "source": [
    "# load all parameters from json file\n",
    "params = load_json(os.path.join(rootdir_path, 'parameters.json'))\n",
    "# set the dataset we are going to use\n",
    "dataset = 'UrbanSound8k'\n",
    "\n",
    "# get dataset parameters\n",
    "params_dataset = params[\"datasets\"][dataset]\n",
    "\n",
    "# get augmentation parameters\n",
    "params_augmentation = params[\"data_augmentations\"]\n",
    "\n",
    "# get feature extraction parameters\n",
    "params_features = params[\"features\"]\n",
    "\n",
    "# get training parameters\n",
    "params_train = params[\"train\"]\n",
    "\n",
    "params_model = params[\"models\"][\"SB_CNN\"]\n"
   ]
  },
  {
   "cell_type": "code",
   "execution_count": 3,
   "metadata": {
    "execution": {
     "iopub.execute_input": "2020-07-02T00:20:42.647675Z",
     "iopub.status.busy": "2020-07-02T00:20:42.646331Z",
     "iopub.status.idle": "2020-07-02T00:22:48.378299Z",
     "shell.execute_reply": "2020-07-02T00:22:48.379412Z"
    },
    "papermill": {
     "duration": 126.086821,
     "end_time": "2020-07-02T00:22:48.379668",
     "exception": false,
     "start_time": "2020-07-02T00:20:42.292847",
     "status": "completed"
    },
    "tags": []
   },
   "outputs": [
    {
     "name": "stdout",
     "output_type": "stream",
     "text": [
      "Dataset Parameters:\n",
      " {\n",
      "    \"dataset_path\": \"datasets/UrbanSound8K\",\n",
      "    \"evaluation_mode\": \"cross-validation\"\n",
      "}\n",
      "Augmentation Parameters:\n",
      " [\n",
      "    {\n",
      "        \"n_semitones\": -1,\n",
      "        \"type\": \"pitch_shift\"\n",
      "    },\n",
      "    {\n",
      "        \"factor\": 1.05,\n",
      "        \"type\": \"time_stretching\"\n",
      "    },\n",
      "    {\n",
      "        \"snr\": 60,\n",
      "        \"type\": \"white_noise\"\n",
      "    }\n",
      "]\n",
      "Features' Parameters:\n",
      " {\n",
      "    \"MelSpectrogram\": {\n",
      "        \"mel_bands\": 64,\n",
      "        \"n_fft\": 1024\n",
      "    },\n",
      "    \"Openl3\": {\n",
      "        \"content_type\": \"env\",\n",
      "        \"embedding_size\": 512,\n",
      "        \"input_repr\": \"mel256\"\n",
      "    },\n",
      "    \"Spectrogram\": {\n",
      "        \"n_fft\": 1024\n",
      "    },\n",
      "    \"audio_hop\": 690,\n",
      "    \"audio_win\": 1024,\n",
      "    \"sequence_hop_time\": 1.0,\n",
      "    \"sequence_time\": 2.0,\n",
      "    \"sr\": 22050\n",
      "}\n",
      "Training Parameters:\n",
      " {\n",
      "    \"batch_size\": 32,\n",
      "    \"considered_improvement\": 0,\n",
      "    \"early_stopping\": 30,\n",
      "    \"epochs\": 50,\n",
      "    \"learning_rate\": 0.001,\n",
      "    \"optimizer\": \"Adam\",\n",
      "    \"verbose\": 1\n",
      "}\n"
     ]
    }
   ],
   "source": [
    "# print the dataset parameters \n",
    "print(\"Dataset Parameters:\\n\", json.dumps(params_dataset, indent=4, sort_keys=True))\n",
    "# print augmentation parameters \n",
    "print(\"Augmentation Parameters:\\n\",json.dumps(params_augmentation, indent=4, sort_keys=True))\n",
    "# print feature extraction parameters \n",
    "print(\"Features' Parameters:\\n\",json.dumps(params_features, indent=4, sort_keys=True))\n",
    "# print training parameters \n",
    "print(\"Training Parameters:\\n\",json.dumps(params_train, indent=4, sort_keys=True))\n"
   ]
  },
  {
   "cell_type": "markdown",
   "metadata": {
    "papermill": {
     "duration": 0.256158,
     "end_time": "2020-07-02T00:22:48.993565",
     "exception": false,
     "start_time": "2020-07-02T00:22:48.737407",
     "status": "completed"
    },
    "tags": []
   },
   "source": [
    "<a id=\"DataAugmentation\"></a>\n",
    "## 2. Data Augmentation"
   ]
  },
  {
   "cell_type": "markdown",
   "metadata": {
    "papermill": {
     "duration": 0.248503,
     "end_time": "2020-07-02T00:22:49.391365",
     "exception": false,
     "start_time": "2020-07-02T00:22:49.142862",
     "status": "completed"
    },
    "tags": []
   },
   "source": [
    "We'll apply one of the pitch shifting transformations described on the paper."
   ]
  },
  {
   "cell_type": "code",
   "execution_count": 4,
   "metadata": {
    "execution": {
     "iopub.execute_input": "2020-07-02T00:22:49.825021Z",
     "iopub.status.busy": "2020-07-02T00:22:49.823688Z",
     "iopub.status.idle": "2020-07-02T00:40:56.547113Z",
     "shell.execute_reply": "2020-07-02T00:40:56.548232Z"
    },
    "papermill": {
     "duration": 1086.921982,
     "end_time": "2020-07-02T00:40:56.548489",
     "exception": false,
     "start_time": "2020-07-02T00:22:49.626507",
     "status": "completed"
    },
    "tags": []
   },
   "outputs": [
    {
     "name": "stdout",
     "output_type": "stream",
     "text": [
      "Processing ...\n",
      "Done!\n"
     ]
    }
   ],
   "source": [
    "# Initialize Data Generator as an instance of UrbanSound8k\n",
    "dataset = UrbanSound8k(os.path.join(rootdir_path, params_dataset[\"dataset_path\"]))\n",
    "# Download if needed\n",
    "dataset.download()\n",
    "# Set augmentation parameters to match values described on the paper\n",
    "semitones = [-2, -1, 1, 2]\n",
    "params_augmentation  = [{'type' : 'pitch_shift', 'n_semitones': s } for s in semitones]\n",
    "\n",
    "# Initialize AugmentedDataset\n",
    "aug_dataset = AugmentedDataset(dataset, 44100, params_augmentation)\n",
    "\n",
    "# Process all files\n",
    "print('Processing ...')\n",
    "aug_dataset.process()\n",
    "print('Done!')\n"
   ]
  },
  {
   "cell_type": "markdown",
   "metadata": {
    "papermill": {
     "duration": 0.158236,
     "end_time": "2020-07-02T00:40:56.839617",
     "exception": false,
     "start_time": "2020-07-02T00:40:56.681381",
     "status": "completed"
    },
    "tags": []
   },
   "source": [
    "<a id=\"ExtractFeatures\"></a>\n",
    "## 2. Extract features\n",
    "\n",
    "Initialize Feature Extractor and extract features from the augmented dataset."
   ]
  },
  {
   "cell_type": "markdown",
   "metadata": {
    "papermill": {
     "duration": 0.207829,
     "end_time": "2020-07-02T00:40:57.191247",
     "exception": false,
     "start_time": "2020-07-02T00:40:56.983418",
     "status": "completed"
    },
    "tags": []
   },
   "source": [
    "First define feature extraction params as described on the paper."
   ]
  },
  {
   "cell_type": "code",
   "execution_count": 5,
   "metadata": {
    "execution": {
     "iopub.execute_input": "2020-07-02T00:40:57.867420Z",
     "iopub.status.busy": "2020-07-02T00:40:57.866049Z",
     "iopub.status.idle": "2020-07-02T00:41:40.355396Z",
     "shell.execute_reply": "2020-07-02T00:41:40.356511Z"
    },
    "papermill": {
     "duration": 42.782145,
     "end_time": "2020-07-02T00:41:40.356764",
     "exception": false,
     "start_time": "2020-07-02T00:40:57.574619",
     "status": "completed"
    },
    "tags": []
   },
   "outputs": [
    {
     "name": "stdout",
     "output_type": "stream",
     "text": [
      "(11, 129, 128)\n"
     ]
    }
   ],
   "source": [
    "# Define params\n",
    "\n",
    "params_features = {\n",
    "    \"MelSpectrogram\": {\n",
    "        \"mel_bands\": 128,\n",
    "        \"n_fft\": 1024\n",
    "    },\n",
    "    \"audio_hop\": 1024,\n",
    "    \"audio_win\": 1024,\n",
    "    \"sequence_hop_time\": 1.0,\n",
    "    \"sequence_time\": 3.0,\n",
    "    \"sr\": 44100\n",
    "}\n",
    "# Initialize Feature Extractor\n",
    "features = MelSpectrogram(sequence_time=params_features['sequence_time'], \n",
    "                          sequence_hop_time=params_features['sequence_hop_time'], \n",
    "                          audio_win=params_features['audio_win'], \n",
    "                          audio_hop=params_features['audio_hop'], \n",
    "                          sr=params_features['sr'],\n",
    "                          **params_features['MelSpectrogram'])\n",
    "print(features.get_shape())"
   ]
  },
  {
   "cell_type": "code",
   "execution_count": 6,
   "metadata": {
    "execution": {
     "iopub.execute_input": "2020-07-02T00:41:40.875773Z",
     "iopub.status.busy": "2020-07-02T00:41:40.874456Z",
     "iopub.status.idle": "2020-07-02T00:41:41.764705Z",
     "shell.execute_reply": "2020-07-02T00:41:41.763560Z"
    },
    "papermill": {
     "duration": 1.129329,
     "end_time": "2020-07-02T00:41:41.764921",
     "exception": false,
     "start_time": "2020-07-02T00:41:40.635592",
     "status": "completed"
    },
    "tags": []
   },
   "outputs": [
    {
     "name": "stdout",
     "output_type": "stream",
     "text": [
      "Done!\n"
     ]
    }
   ],
   "source": [
    "# Extract the features (if they were not extracted before).\n",
    "if not features.check_if_extracted(aug_dataset):\n",
    "    features.extract(aug_dataset)\n",
    "print('Done!')\n",
    "\n"
   ]
  },
  {
   "cell_type": "markdown",
   "metadata": {
    "papermill": {
     "duration": 0.301823,
     "end_time": "2020-07-02T00:41:42.520704",
     "exception": false,
     "start_time": "2020-07-02T00:41:42.218881",
     "status": "completed"
    },
    "tags": []
   },
   "source": [
    "<a id=\"LoadData\"></a>\n",
    "## 3. Load data"
   ]
  },
  {
   "cell_type": "code",
   "execution_count": 7,
   "metadata": {
    "execution": {
     "iopub.execute_input": "2020-07-02T00:41:42.947284Z",
     "iopub.status.busy": "2020-07-02T00:41:42.945934Z",
     "iopub.status.idle": "2020-07-02T00:41:43.168621Z",
     "shell.execute_reply": "2020-07-02T00:41:43.167477Z"
    },
    "papermill": {
     "duration": 0.480947,
     "end_time": "2020-07-02T00:41:43.168832",
     "exception": false,
     "start_time": "2020-07-02T00:41:42.687885",
     "status": "completed"
    },
    "tags": []
   },
   "outputs": [],
   "source": [
    "# Get train/test folds\n",
    "folds_train, folds_val, folds_test = evaluation_setup('fold1', dataset.fold_list,\n",
    "                                                      params_dataset['evaluation_mode'],\n",
    "                                                      use_validate_set=True)\n",
    "#initialise Data Generator\n",
    "data_gen_train = DataGenerator(dataset, features, folds=folds_train,\n",
    "                               batch_size=params_train['batch_size'],\n",
    "                               shuffle=True, train=True, scaler=None)\n"
   ]
  },
  {
   "cell_type": "markdown",
   "metadata": {
    "papermill": {
     "duration": 0.160418,
     "end_time": "2020-07-02T00:41:43.434383",
     "exception": false,
     "start_time": "2020-07-02T00:41:43.273965",
     "status": "completed"
    },
    "tags": []
   },
   "source": [
    "And also fit a scaler to transform training data."
   ]
  },
  {
   "cell_type": "code",
   "execution_count": 8,
   "metadata": {
    "execution": {
     "iopub.execute_input": "2020-07-02T00:41:43.894389Z",
     "iopub.status.busy": "2020-07-02T00:41:43.893037Z",
     "iopub.status.idle": "2020-07-02T00:51:39.103406Z",
     "shell.execute_reply": "2020-07-02T00:51:39.104527Z"
    },
    "papermill": {
     "duration": 595.44498,
     "end_time": "2020-07-02T00:51:39.104785",
     "exception": false,
     "start_time": "2020-07-02T00:41:43.659805",
     "status": "completed"
    },
    "tags": []
   },
   "outputs": [
    {
     "name": "stdout",
     "output_type": "stream",
     "text": [
      "Fitting features ...\n",
      "Done!\n"
     ]
    }
   ],
   "source": [
    "scaler = Scaler(normalizer=params_model['normalizer'])\n",
    "print('Fitting features ...')\n",
    "scaler.fit(data_gen_train)\n",
    "print('Done!')\n",
    "\n",
    "data_gen_train.set_scaler(scaler)"
   ]
  },
  {
   "cell_type": "markdown",
   "metadata": {
    "papermill": {
     "duration": 0.184574,
     "end_time": "2020-07-02T00:51:39.411941",
     "exception": false,
     "start_time": "2020-07-02T00:51:39.227367",
     "status": "completed"
    },
    "tags": []
   },
   "source": [
    "Initialise validation data generator"
   ]
  },
  {
   "cell_type": "code",
   "execution_count": 9,
   "metadata": {
    "execution": {
     "iopub.execute_input": "2020-07-02T00:51:39.728574Z",
     "iopub.status.busy": "2020-07-02T00:51:39.727241Z",
     "iopub.status.idle": "2020-07-02T00:51:57.910061Z",
     "shell.execute_reply": "2020-07-02T00:51:57.908367Z"
    },
    "papermill": {
     "duration": 18.331858,
     "end_time": "2020-07-02T00:51:57.910516",
     "exception": false,
     "start_time": "2020-07-02T00:51:39.578658",
     "status": "completed"
    },
    "tags": []
   },
   "outputs": [],
   "source": [
    "data_gen_val = DataGenerator(dataset, features, folds=folds_val,\n",
    "                             batch_size=params_train['batch_size'],\n",
    "                             shuffle=False, train=False, scaler=scaler)"
   ]
  },
  {
   "cell_type": "markdown",
   "metadata": {
    "papermill": {
     "duration": 0.145472,
     "end_time": "2020-07-02T00:51:58.168001",
     "exception": false,
     "start_time": "2020-07-02T00:51:58.022529",
     "status": "completed"
    },
    "tags": []
   },
   "source": [
    "<a id=\"initmodel\"></a>\n",
    "## 6. Define and initialise model"
   ]
  },
  {
   "cell_type": "code",
   "execution_count": 10,
   "metadata": {
    "execution": {
     "iopub.execute_input": "2020-07-02T00:51:58.486317Z",
     "iopub.status.busy": "2020-07-02T00:51:58.484911Z",
     "iopub.status.idle": "2020-07-02T00:52:00.381828Z",
     "shell.execute_reply": "2020-07-02T00:52:00.382903Z"
    },
    "papermill": {
     "duration": 2.053869,
     "end_time": "2020-07-02T00:52:00.383183",
     "exception": false,
     "start_time": "2020-07-02T00:51:58.329314",
     "status": "completed"
    },
    "tags": []
   },
   "outputs": [
    {
     "name": "stdout",
     "output_type": "stream",
     "text": [
      "129 128 10\n",
      "_________________________________________________________________\n",
      "Layer (type)                 Output Shape              Param #   \n",
      "=================================================================\n",
      "input (InputLayer)           (None, 129, 128)          0         \n",
      "_________________________________________________________________\n",
      "lambda (Lambda)              (None, 129, 128, 1)       0         \n",
      "_________________________________________________________________\n",
      "conv1 (Conv2D)               (None, 125, 124, 24)      624       \n",
      "_________________________________________________________________\n",
      "maxpool1 (MaxPooling2D)      (None, 62, 62, 24)        0         \n",
      "_________________________________________________________________\n",
      "batchnorm1 (BatchNormalizati (None, 62, 62, 24)        96        \n",
      "_________________________________________________________________\n",
      "conv2 (Conv2D)               (None, 58, 58, 48)        28848     \n",
      "_________________________________________________________________\n",
      "maxpool2 (MaxPooling2D)      (None, 14, 29, 48)        0         \n",
      "_________________________________________________________________\n",
      "batchnorm2 (BatchNormalizati (None, 14, 29, 48)        192       \n",
      "_________________________________________________________________\n",
      "conv3 (Conv2D)               (None, 10, 25, 48)        57648     \n",
      "_________________________________________________________________\n",
      "batchnorm3 (BatchNormalizati (None, 10, 25, 48)        192       \n",
      "_________________________________________________________________\n",
      "flatten (Flatten)            (None, 12000)             0         \n",
      "_________________________________________________________________\n",
      "dropout1 (Dropout)           (None, 12000)             0         \n",
      "_________________________________________________________________\n",
      "dense1 (Dense)               (None, 64)                768064    \n",
      "_________________________________________________________________\n",
      "dropout2 (Dropout)           (None, 64)                0         \n",
      "_________________________________________________________________\n",
      "out (Dense)                  (None, 10)                650       \n",
      "=================================================================\n",
      "Total params: 856,314\n",
      "Trainable params: 856,074\n",
      "Non-trainable params: 240\n",
      "_________________________________________________________________\n"
     ]
    }
   ],
   "source": [
    "features_shape = features.get_shape()\n",
    "n_frames_cnn = features_shape[1]\n",
    "n_freq_cnn = features_shape[2]\n",
    "n_classes = len(dataset.label_list)\n",
    "\n",
    "\n",
    "print(n_frames_cnn, n_freq_cnn, n_classes)\n",
    "\n",
    "model_container = SB_CNN(model=None, model_path=None, n_classes=n_classes, \n",
    "                         n_frames_cnn=n_frames_cnn, n_freq_cnn=n_freq_cnn)\n",
    "\n",
    "model_container.model.summary()"
   ]
  },
  {
   "cell_type": "markdown",
   "metadata": {
    "papermill": {
     "duration": 0.141778,
     "end_time": "2020-07-02T00:52:00.731240",
     "exception": false,
     "start_time": "2020-07-02T00:52:00.589462",
     "status": "completed"
    },
    "tags": []
   },
   "source": [
    "<a id=\"train\"></a>\n",
    "## 7. Train model"
   ]
  },
  {
   "cell_type": "code",
   "execution_count": 11,
   "metadata": {
    "execution": {
     "iopub.execute_input": "2020-07-02T00:52:00.979338Z",
     "iopub.status.busy": "2020-07-02T00:52:00.977976Z",
     "iopub.status.idle": "2020-07-02T04:38:47.391784Z",
     "shell.execute_reply": "2020-07-02T04:38:47.392932Z"
    },
    "papermill": {
     "duration": 13606.537051,
     "end_time": "2020-07-02T04:38:47.393219",
     "exception": false,
     "start_time": "2020-07-02T00:52:00.856168",
     "status": "completed"
    },
    "tags": []
   },
   "outputs": [],
   "source": [
    "#define path to save weights\n",
    "exp_folder = './'\n",
    "# Number of epochs can be modified\n",
    "params_train[\"epochs\"]=100\n",
    "# Train model\n",
    "model_container.train(data_gen_train, data_gen_val,label_list=dataset.label_list, weights_path=exp_folder, **params_train)"
   ]
  },
  {
   "cell_type": "markdown",
   "metadata": {
    "papermill": {
     "duration": 2.389787,
     "end_time": "2020-07-02T04:38:52.131485",
     "exception": false,
     "start_time": "2020-07-02T04:38:49.741698",
     "status": "completed"
    },
    "tags": []
   },
   "source": [
    "<a id=\"Eval\"></a>\n",
    "## 8. Evaluate Model"
   ]
  },
  {
   "cell_type": "code",
   "execution_count": 20,
   "metadata": {
    "execution": {
     "iopub.execute_input": "2020-07-02T04:38:57.058593Z",
     "iopub.status.busy": "2020-07-02T04:38:57.057206Z",
     "iopub.status.idle": "2020-07-02T04:39:30.536758Z",
     "shell.execute_reply": "2020-07-02T04:39:30.538059Z"
    },
    "papermill": {
     "duration": 36.079383,
     "end_time": "2020-07-02T04:39:30.538452",
     "exception": true,
     "start_time": "2020-07-02T04:38:54.459069",
     "status": "failed"
    },
    "tags": []
   },
   "outputs": [
    {
     "name": "stdout",
     "output_type": "stream",
     "text": [
      "Scene classification metrics\n",
      "========================================\n",
      "  Scene labels                      : 10 \n",
      "  Evaluated units                   : 873 \n",
      "\n",
      "  Class-wise average metrics (macro-average)\n",
      "  ======================================\n",
      "  Accuracy\n",
      "    Accuracy                        : 70.85 %\n",
      "\n",
      "  Class-wise metrics\n",
      "  ======================================\n",
      "    Scene label       | Ncorr       Nref      | Accuracy   \n",
      "    ----------------- | ---------   --------- | ---------  \n",
      "    air_conditioner   | 16          100       | 16.0%      \n",
      "    car_horn          | 29          36        | 80.6%      \n",
      "    children_playing  | 84          100       | 84.0%      \n",
      "    dog_bark          | 93          100       | 93.0%      \n",
      "    drilling          | 65          100       | 65.0%      \n",
      "    engine_idling     | 42          96        | 43.8%      \n",
      "    gun_shot          | 33          35        | 94.3%      \n",
      "    jackhammer        | 81          120       | 67.5%      \n",
      "    siren             | 70          86        | 81.4%      \n",
      "    street_music      | 83          100       | 83.0%      \n",
      "\n",
      "\n"
     ]
    }
   ],
   "source": [
    "# Load best_weights\n",
    "model_container.load_model_weights(exp_folder)\n",
    "data_gen_test = DataGenerator(dataset, features, folds=folds_test,\\\n",
    "                              batch_size=params_train['batch_size'],\\\n",
    "                              shuffle=False, train=False, scaler=scaler)\n",
    "\n",
    "results = model_container.evaluate(data_gen_test, label_list=dataset.label_list)\n",
    "\n",
    "print(results[\"classification\"])"
   ]
  }
 ],
 "metadata": {
  "kernelspec": {
   "display_name": "Python 3",
   "language": "python",
   "name": "python3"
  },
  "language_info": {
   "codemirror_mode": {
    "name": "ipython",
    "version": 3
   },
   "file_extension": ".py",
   "mimetype": "text/x-python",
   "name": "python",
   "nbconvert_exporter": "python",
   "pygments_lexer": "ipython3",
   "version": "3.6.5"
  },
  "papermill": {
   "duration": 16517.939005,
   "end_time": "2020-07-02T04:39:35.427006",
   "environment_variables": {},
   "exception": true,
   "input_path": "paper_SalamonBello_IEEE-Signal-Process-Lett-2017_CNN.ipynb",
   "output_path": "paper_SalamonBello_IEEE-Signal-Process-Lett-2017_CNN_output.ipynb",
   "parameters": {},
   "start_time": "2020-07-02T00:04:17.488001",
   "version": "2.1.1"
  }
 },
 "nbformat": 4,
 "nbformat_minor": 2
}
