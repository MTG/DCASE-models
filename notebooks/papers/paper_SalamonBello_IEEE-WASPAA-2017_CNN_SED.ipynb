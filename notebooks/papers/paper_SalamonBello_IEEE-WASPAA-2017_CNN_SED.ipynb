{
 "cells": [
  {
   "cell_type": "markdown",
   "metadata": {},
   "source": [
    " <pre>\n",
    " ____   ____    _    ____  _____                          _      _     \n",
    "|  _ \\ / ___|  / \\  / ___|| ____|     _ __ ___   ___   __| | ___| |___ \n",
    "| | | | |     / _ \\ \\___ \\|  _| _____| '_ ` _ \\ / _ \\ / _` |/ _ \\ / __|\n",
    "| |_| | |___ / ___ \\ ___) | |__|_____| | | | | | (_) | (_| |  __/ \\__ \\\n",
    "|____/ \\____/_/   \\_\\____/|_____|    |_| |_| |_|\\___/ \\__,_|\\___|_|___/\n",
    "                                                                        \n",
    "</pre>\n",
    "\n",
    "# DCASE-models Notebooks\n",
    "Python Notebooks for [DCASE-models](https://github.com/pzinemanas/DCASE-models)\n",
    "\n",
    "---\n",
    "\n",
    "### About \n",
    "This Notebook reproduces the results for **Sound Event Detection (SED)** presented in:\n",
    "<ul>\n",
    "<li><a href=\"http://www.justinsalamon.com/uploads/4/3/9/4/4394963/salamon_scaper_waspaa_2017.pdf\"><strong>\n",
    "    Scaper: A Library for Soundscape Synthesis and Augmentation</strong></a>\n",
    "    J. Salamon, D. MacConnell, M. Cartwright, P. Li, and J. P. Bello.\n",
    "    In IEEE Workshop on Applications of Signal Processing to\n",
    "    Audio and Acoustics (WASPAA), New Paltz, NY, USA, Oct. 2017.\n",
    "    <br>\n",
    "   <a type=\"button\" class=\"btn btn-default btn-xs\" target=\"_blank\" href=\"http://www.justinsalamon.com/uploads/4/3/9/4/4394963/salamon_scaper_waspaa_2017.pdf\"> PDF </a>\n",
    "   <a type=\"button\" class=\"btn btn-default btn-xs\" target=\"_blank\" href=\"https://ieeexplore.ieee.org/document/8170052\"> IEEE</a>\n",
    "    </li>   \n",
    "</ul>\n",
    "\n",
    "### Overview\n",
    "\n",
    "The paper introduces [Scaper](https://github.com/justinsalamon/scaper), an open-source library for soundscape synthesis and augmentation. To illustrate the potential of the library, the authors generate a dataset of 10,000 sound-scapes, namely [URBAN-SED](http://urbansed.weebly.com/), and use it to compare the performance of two state-of-the-art algorithms for sound event detection:\n",
    "- the Convolutional Recurrent Neural Net-work (CRNN) proposed by Cakir et al. [[C-CRNN]](https://ieeexplore.ieee.org/document/7933050)\n",
    "- an adaptation of the Convolutional Neural Network (CNN) proposed by Salamon and Bello [[SB-CNN]](http://ieeexplore.ieee.org/document/7829341/)\n",
    "\n",
    "### Organization\n",
    "\n",
    "The Notebook is organized into the following sections.\n",
    "* [1. Load parameters](#LoadParameters)\n",
    "* [2. Init data generator and extract features](#ExtractFeatures)\n",
    "* [3. Load data](#LoadData)\n",
    "* [4. Initialize model](#InitModel)\n",
    "* [5. Train model](#TrainModel)\n",
    "* [6. Evaluate model](#EvaluateModel)"
   ]
  },
  {
   "cell_type": "code",
   "execution_count": 36,
   "metadata": {},
   "outputs": [
    {
     "name": "stdout",
     "output_type": "stream",
     "text": [
      "The autoreload extension is already loaded. To reload it, use:\n",
      "  %reload_ext autoreload\n"
     ]
    }
   ],
   "source": [
    "%load_ext autoreload\n",
    "%autoreload 2\n",
    "rootdir_path = '../../'\n",
    "import sys\n",
    "import os\n",
    "import json\n",
    "import warnings\n",
    "import glob\n",
    "import numpy as np\n",
    "import argparse\n",
    "\n",
    "sys.path.append(rootdir_path)\n",
    "from dcase_models.utils.files import load_json, mkdir_if_not_exists\n",
    "from dcase_models.data.data_generator import DataGenerator\n",
    "from dcase_models.data.datasets import URBAN_SED\n",
    "from dcase_models.data.features import MelSpectrogram\n",
    "from dcase_models.model.models import SB_CNN_SED\n",
    "from dcase_models.data.scaler import Scaler\n",
    "from dcase_models.utils.files import load_json\n",
    "\n",
    "os.environ[\"CUDA_VISIBLE_DEVICES\"] = \"1\""
   ]
  },
  {
   "cell_type": "markdown",
   "metadata": {},
   "source": [
    "<a id=\"LoadeParameters\"></a>\n",
    "## 1. Load parameters"
   ]
  },
  {
   "cell_type": "markdown",
   "metadata": {},
   "source": [
    "Dataset, feature extraction and training parameters are stored in a json file on the root directory."
   ]
  },
  {
   "cell_type": "code",
   "execution_count": 37,
   "metadata": {},
   "outputs": [],
   "source": [
    "# load all parameters from json file\n",
    "params = load_json(os.path.join(rootdir_path, 'parameters.json'))\n",
    "# set the dataset we are going to use\n",
    "dataset = 'URBAN_SED'\n",
    "\n",
    "# get dataset parameters\n",
    "params_dataset = params[\"datasets\"][dataset]\n",
    "\n",
    "# get feature extraction parameters\n",
    "params_features = params[\"features\"]\n",
    "\n",
    "# get training parameters\n",
    "params_train = params[\"train\"]"
   ]
  },
  {
   "cell_type": "markdown",
   "metadata": {},
   "source": [
    "Check that the values of the parameters are correct."
   ]
  },
  {
   "cell_type": "code",
   "execution_count": 38,
   "metadata": {},
   "outputs": [
    {
     "name": "stdout",
     "output_type": "stream",
     "text": [
      "Dataset Parameters:\n",
      " {\n",
      "    \"dataset_path\": \"datasets/URBAN-SED_v2.0.0\",\n",
      "    \"evaluation_mode\": \"train-validate-test\"\n",
      "}\n",
      "Features' Parameters:\n",
      " {\n",
      "    \"MelSpectrogram\": {\n",
      "        \"mel_bands\": 64,\n",
      "        \"n_fft\": 1024\n",
      "    },\n",
      "    \"Openl3\": {\n",
      "        \"content_type\": \"env\",\n",
      "        \"embedding_size\": 512,\n",
      "        \"input_repr\": \"mel256\"\n",
      "    },\n",
      "    \"Spectrogram\": {\n",
      "        \"n_fft\": 1024\n",
      "    },\n",
      "    \"audio_hop\": 690,\n",
      "    \"audio_win\": 1024,\n",
      "    \"sequence_hop_time\": 1.0,\n",
      "    \"sequence_time\": 2.0,\n",
      "    \"sr\": 22050\n",
      "}\n",
      "Training Parameters:\n",
      " {\n",
      "    \"batch_size\": 256,\n",
      "    \"considered_improvement\": 0,\n",
      "    \"early_stopping\": 30,\n",
      "    \"epochs\": 50,\n",
      "    \"learning_rate\": 0.001,\n",
      "    \"optimizer\": \"Adam\",\n",
      "    \"verbose\": 1\n",
      "}\n"
     ]
    }
   ],
   "source": [
    "# print the dataset parameters \n",
    "print(\"Dataset Parameters:\\n\", json.dumps(params_dataset, indent=4, sort_keys=True))\n",
    "# print feature extraction parameters \n",
    "print(\"Features' Parameters:\\n\",json.dumps(params_features, indent=4, sort_keys=True))\n",
    "# print training parameters \n",
    "print(\"Training Parameters:\\n\",json.dumps(params_train, indent=4, sort_keys=True))\n",
    "\n"
   ]
  },
  {
   "cell_type": "markdown",
   "metadata": {},
   "source": [
    "<a id=\"ExtractFeatures\"></a>\n",
    "## 2. Initialize Data Generator and Extract features\n",
    "\n",
    "Initialize Feature Extractor and Data Generator."
   ]
  },
  {
   "cell_type": "code",
   "execution_count": 39,
   "metadata": {},
   "outputs": [
    {
     "name": "stdout",
     "output_type": "stream",
     "text": [
      "(10, 64, 128)\n"
     ]
    }
   ],
   "source": [
    "# Initialize Feature Extractor\n",
    "feature_extractor = MelSpectrogram(sequence_time=params_features['sequence_time'], \\\n",
    "                                            sequence_hop_time=params_features['sequence_hop_time'], \n",
    "                                            audio_win=params_features['audio_win'], \n",
    "                                            audio_hop=params_features['audio_hop'], \n",
    "                                            n_fft=params_features['Spectrogram']['n_fft'], \n",
    "                                            sr=params_features['sr'])\n",
    "\n",
    "print(feature_extractor.get_shape())"
   ]
  },
  {
   "cell_type": "code",
   "execution_count": 41,
   "metadata": {},
   "outputs": [],
   "source": [
    "# Initialize Data Generator as an instance of URBAN_SED\n",
    "dataset = URBAN_SED(os.path.join(rootdir_path, params_dataset[\"dataset_path\"]))"
   ]
  },
  {
   "cell_type": "markdown",
   "metadata": {},
   "source": [
    "Check if dataset exists, and download it if doesn't."
   ]
  },
  {
   "cell_type": "code",
   "execution_count": null,
   "metadata": {},
   "outputs": [],
   "source": [
    "dataset.download()"
   ]
  },
  {
   "cell_type": "markdown",
   "metadata": {},
   "source": [
    "Initialize data generator"
   ]
  },
  {
   "cell_type": "code",
   "execution_count": 42,
   "metadata": {},
   "outputs": [
    {
     "ename": "AttributeError",
     "evalue": "dataset has to be an instance of Dataset or similar",
     "output_type": "error",
     "traceback": [
      "\u001b[0;31m---------------------------------------------------------------------------\u001b[0m",
      "\u001b[0;31mAttributeError\u001b[0m                            Traceback (most recent call last)",
      "\u001b[0;32m<ipython-input-42-bb194caea0f7>\u001b[0m in \u001b[0;36m<module>\u001b[0;34m\u001b[0m\n\u001b[0;32m----> 1\u001b[0;31m \u001b[0mdata_generator\u001b[0m \u001b[0;34m=\u001b[0m \u001b[0mDataGenerator\u001b[0m\u001b[0;34m(\u001b[0m\u001b[0mdataset\u001b[0m\u001b[0;34m,\u001b[0m \u001b[0mfeature_extractor\u001b[0m\u001b[0;34m)\u001b[0m\u001b[0;34m\u001b[0m\u001b[0m\n\u001b[0m",
      "\u001b[0;32m~/DCASE-models/dcase_models/data/data_generator.py\u001b[0m in \u001b[0;36m__init__\u001b[0;34m(self, dataset, feature_extractor, **kwargs)\u001b[0m\n\u001b[1;32m     88\u001b[0m         \u001b[0;32mif\u001b[0m \u001b[0;34m(\u001b[0m\u001b[0mDataset\u001b[0m \u001b[0;32mnot\u001b[0m \u001b[0;32min\u001b[0m \u001b[0minspect\u001b[0m\u001b[0;34m.\u001b[0m\u001b[0mgetmro\u001b[0m\u001b[0;34m(\u001b[0m\u001b[0mdataset\u001b[0m\u001b[0;34m.\u001b[0m\u001b[0m__class__\u001b[0m\u001b[0;34m)\u001b[0m\u001b[0;34m)\u001b[0m\u001b[0;34m:\u001b[0m\u001b[0;34m\u001b[0m\u001b[0m\n\u001b[1;32m     89\u001b[0m             raise AttributeError(\n\u001b[0;32m---> 90\u001b[0;31m                 \u001b[0;34m'dataset has to be an instance of Dataset or similar'\u001b[0m\u001b[0;34m\u001b[0m\u001b[0m\n\u001b[0m\u001b[1;32m     91\u001b[0m             )\n\u001b[1;32m     92\u001b[0m \u001b[0;34m\u001b[0m\u001b[0m\n",
      "\u001b[0;31mAttributeError\u001b[0m: dataset has to be an instance of Dataset or similar"
     ]
    }
   ],
   "source": [
    "data_generator = DataGenerator(dataset, feature_extractor)"
   ]
  },
  {
   "cell_type": "markdown",
   "metadata": {},
   "source": [
    "Extract the features (if they were not extracted before)."
   ]
  },
  {
   "cell_type": "code",
   "execution_count": null,
   "metadata": {},
   "outputs": [],
   "source": [
    "if not data_generator.check_if_features_extracted():\n",
    "    data_generator.extract_features()\n",
    "print('Done!')"
   ]
  },
  {
   "cell_type": "markdown",
   "metadata": {},
   "source": [
    "<a id=\"LoadData\"></a>\n",
    "## 3. Load data"
   ]
  },
  {
   "cell_type": "code",
   "execution_count": null,
   "metadata": {},
   "outputs": [],
   "source": [
    "print('Loading data... ')\n",
    "data_generator.load_data()\n",
    "print('Done!')"
   ]
  },
  {
   "cell_type": "markdown",
   "metadata": {},
   "source": [
    "And also fit a scaler and transform the training data."
   ]
  },
  {
   "cell_type": "code",
   "execution_count": null,
   "metadata": {},
   "outputs": [],
   "source": [
    "fold_test = 'test'\n",
    "\n",
    "X_train, Y_train, X_val, Y_val = data_generator.get_data_for_training(fold_test, \n",
    "                                                                      evaluation_mode='train-validate-test')\n",
    "scaler = Scaler(normalizer=normalizer)\n",
    "scaler.fit(X_train)\n",
    "X_train = scaler.transform(X_train)\n",
    "X_val = scaler.transform(X_val)"
   ]
  },
  {
   "cell_type": "code",
   "execution_count": null,
   "metadata": {},
   "outputs": [],
   "source": [
    "print(X_train.shape, Y_train.shape, X_val[0].shape, Y_val[0].shape)"
   ]
  },
  {
   "cell_type": "markdown",
   "metadata": {},
   "source": [
    "<a id=\"InitModel\"></a>\n",
    "## 4. Initialize model"
   ]
  },
  {
   "cell_type": "code",
   "execution_count": null,
   "metadata": {
    "scrolled": true
   },
   "outputs": [],
   "source": [
    "n_frames_cnn = X_train.shape[1]\n",
    "n_freq_cnn = X_train.shape[2]\n",
    "n_classes = Y_train.shape[1]\n",
    "print(n_frames_cnn, n_freq_cnn, n_classes)\n",
    "metrics = ['F1', 'ER']\n",
    "\n",
    "model_container = SB_CNN_SED(model=None, model_path=None, n_classes=n_classes, \n",
    "                             n_frames_cnn=n_frames_cnn, n_freq_cnn=n_freq_cnn,\n",
    "                             metrics=metrics)\n",
    "\n",
    "model_container.model.summary()"
   ]
  },
  {
   "cell_type": "markdown",
   "metadata": {},
   "source": [
    "<a id=\"TrainModel\"></a>\n",
    "## 5. Train model"
   ]
  },
  {
   "cell_type": "code",
   "execution_count": null,
   "metadata": {
    "scrolled": true
   },
   "outputs": [],
   "source": [
    "exp_folder = './'\n",
    "\n",
    "model_container.train(X_train, Y_train, X_val, Y_val, weights_path=exp_folder, **params_train)"
   ]
  },
  {
   "cell_type": "markdown",
   "metadata": {},
   "source": [
    "<a id=\"EvaluateModel\"></a>\n",
    "## 6. Evaluate Model"
   ]
  },
  {
   "cell_type": "code",
   "execution_count": null,
   "metadata": {},
   "outputs": [],
   "source": [
    "# Load best_weights\n",
    "model_container.load_model_weights(exp_folder)\n",
    "\n",
    "# Test model\n",
    "X_test, Y_test = data_generator.get_data_for_testing(fold_test)\n",
    "X_test = scaler.transform(X_test)\n",
    "result  s = model_container.evaluate(X_test, Y_test)\n",
    "\n",
    "print(results['F1'], results['ER'])"
   ]
  }
 ],
 "metadata": {
  "kernelspec": {
   "display_name": "Python 3",
   "language": "python",
   "name": "python3"
  },
  "language_info": {
   "codemirror_mode": {
    "name": "ipython",
    "version": 3
   },
   "file_extension": ".py",
   "mimetype": "text/x-python",
   "name": "python",
   "nbconvert_exporter": "python",
   "pygments_lexer": "ipython3",
   "version": "3.6.5"
  }
 },
 "nbformat": 4,
 "nbformat_minor": 4
}
