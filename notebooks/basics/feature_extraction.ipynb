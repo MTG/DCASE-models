{
 "cells": [
  {
   "cell_type": "markdown",
   "metadata": {},
   "source": [
    "# Example on how to do feature extraction\n",
    "\n",
    "This notebook presents and example on how do feature extraction using DCASE-models. You need to download and prepare the dataset before, so first please run download_and_prepare_datasets.ipynb."
   ]
  },
  {
   "cell_type": "code",
   "execution_count": 2,
   "metadata": {},
   "outputs": [
    {
     "name": "stdout",
     "output_type": "stream",
     "text": [
      "The autoreload extension is already loaded. To reload it, use:\n",
      "  %reload_ext autoreload\n"
     ]
    }
   ],
   "source": [
    "%load_ext autoreload\n",
    "%autoreload 2\n",
    "\n",
    "import sys\n",
    "sys.path.append('../')\n",
    "from dcase_models.data.datasets import UrbanSound8k\n",
    "from dcase_models.data.features import MelSpectrogram\n",
    "from dcase_models.data.data_generator import DataGenerator"
   ]
  },
  {
   "cell_type": "markdown",
   "metadata": {},
   "source": [
    "After import the needed classes, let's define the path to the dataset and the parameters for feature extraction"
   ]
  },
  {
   "cell_type": "code",
   "execution_count": 3,
   "metadata": {},
   "outputs": [],
   "source": [
    "dataset_path = \"/data/pzinemanas/UrbanSound8K\"\n",
    "\n",
    "sequence_time = 2.0\n",
    "sequence_hop_time = 0.5\n",
    "audio_hop = 670\n",
    "audio_win = 1024\n",
    "n_fft = 1024\n",
    "sr = 22050\n",
    "mel_bands = 128"
   ]
  },
  {
   "cell_type": "markdown",
   "metadata": {},
   "source": [
    "Then, define feature_extractor as an instance of MelSpectrogram"
   ]
  },
  {
   "cell_type": "code",
   "execution_count": 4,
   "metadata": {},
   "outputs": [],
   "source": [
    "feature_extractor = MelSpectrogram(sequence_time=sequence_time, \n",
    "                                   sequence_hop_time=sequence_hop_time, \n",
    "                                   audio_win=audio_win, \n",
    "                                   audio_hop=audio_hop, \n",
    "                                   n_fft=n_fft, \n",
    "                                   sr=sr, mel_bands=mel_bands)"
   ]
  },
  {
   "cell_type": "markdown",
   "metadata": {},
   "source": [
    "And define data_generator as an instance of UrbanSound8k"
   ]
  },
  {
   "cell_type": "code",
   "execution_count": 5,
   "metadata": {},
   "outputs": [],
   "source": [
    "dataset = UrbanSound8k(dataset_path)"
   ]
  },
  {
   "cell_type": "code",
   "execution_count": 6,
   "metadata": {},
   "outputs": [
    {
     "name": "stdout",
     "output_type": "stream",
     "text": [
      "/data/pzinemanas/UrbanSound8K features MelSpectrogram\n",
      "<dcase_models.data.datasets.UrbanSound8k object at 0x7fec03b51cd0>\n"
     ]
    }
   ],
   "source": [
    "data_generator = DataGenerator(dataset, feature_extractor)"
   ]
  },
  {
   "cell_type": "markdown",
   "metadata": {},
   "source": [
    "And that's all. To calculate features just:"
   ]
  },
  {
   "cell_type": "code",
   "execution_count": 10,
   "metadata": {},
   "outputs": [
    {
     "name": "stdout",
     "output_type": "stream",
     "text": [
      "Done!\n"
     ]
    }
   ],
   "source": [
    "data_generator.extract_features()\n",
    "print('Done!')"
   ]
  },
  {
   "cell_type": "markdown",
   "metadata": {},
   "source": [
    "To finish, check if the process was successful."
   ]
  },
  {
   "cell_type": "code",
   "execution_count": 11,
   "metadata": {},
   "outputs": [
    {
     "data": {
      "text/plain": [
       "True"
      ]
     },
     "execution_count": 11,
     "metadata": {},
     "output_type": "execute_result"
    }
   ],
   "source": [
    "data_generator.check_if_features_extracted()"
   ]
  }
 ],
 "metadata": {
  "kernelspec": {
   "display_name": "Python 3.7.6 64-bit ('tf_gpu': conda)",
   "language": "python",
   "name": "python37664bittfgpuconda4ce1188e0ad54433a74851c49d21ab14"
  },
  "language_info": {
   "codemirror_mode": {
    "name": "ipython",
    "version": 3
   },
   "file_extension": ".py",
   "mimetype": "text/x-python",
   "name": "python",
   "nbconvert_exporter": "python",
   "pygments_lexer": "ipython3",
   "version": "3.7.6"
  }
 },
 "nbformat": 4,
 "nbformat_minor": 4
}
